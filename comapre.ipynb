{
 "cells": [
  {
   "cell_type": "code",
   "execution_count": 1,
   "metadata": {},
   "outputs": [
    {
     "name": "stdout",
     "output_type": "stream",
     "text": [
      "Removed label: /home/ayman/AI Projects/Iris Detection/iris_data/train/labels/485f2ca5-5bda-11ef-a57c-c18859564890.json\n",
      "Removed label: /home/ayman/AI Projects/Iris Detection/iris_data/train/labels/4658f7cc-5bda-11ef-9265-c18859564890.json\n",
      "Total labels removed: 2\n"
     ]
    }
   ],
   "source": [
    "import os\n",
    "\n",
    "# Directories for images and labels\n",
    "image_dir = '/home/ayman/AI Projects/Iris Detection/iris_data/train/images'  # Replace with your image directory path\n",
    "label_dir = '/home/ayman/AI Projects/Iris Detection/iris_data/train/labels'  # Replace with your label directory path\n",
    "\n",
    "# Get lists of image and label filenames (without extensions)\n",
    "image_filenames = {os.path.splitext(f)[0] for f in os.listdir(image_dir) if os.path.isfile(os.path.join(image_dir, f))}\n",
    "label_filenames = {os.path.splitext(f)[0] for f in os.listdir(label_dir) if os.path.isfile(os.path.join(label_dir, f))}\n",
    "\n",
    "# Find labels without corresponding images\n",
    "labels_to_remove = label_filenames - image_filenames\n",
    "\n",
    "# Remove the labels that don't have corresponding images\n",
    "for label in labels_to_remove:\n",
    "    label_path = os.path.join(label_dir, f'{label}.json')  # Assuming labels are in JSON format; adjust if needed\n",
    "    if os.path.exists(label_path):\n",
    "        os.remove(label_path)\n",
    "        print(f'Removed label: {label_path}')\n",
    "\n",
    "print(f'Total labels removed: {len(labels_to_remove)}')"
   ]
  },
  {
   "cell_type": "code",
   "execution_count": null,
   "metadata": {},
   "outputs": [],
   "source": []
  }
 ],
 "metadata": {
  "kernelspec": {
   "display_name": "Python 3",
   "language": "python",
   "name": "python3"
  },
  "language_info": {
   "codemirror_mode": {
    "name": "ipython",
    "version": 3
   },
   "file_extension": ".py",
   "mimetype": "text/x-python",
   "name": "python",
   "nbconvert_exporter": "python",
   "pygments_lexer": "ipython3",
   "version": "3.12.3"
  }
 },
 "nbformat": 4,
 "nbformat_minor": 2
}
