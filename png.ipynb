{
 "cells": [
  {
   "cell_type": "code",
   "execution_count": 7,
   "metadata": {},
   "outputs": [
    {
     "name": "stdout",
     "output_type": "stream",
     "text": [
      "Converted and compressed 59d66ece-5bda-11ef-adbb-c18859564890.jpg to /home/ayman/AI Projects/Iris Detection/iris_data/val/images_png/59d66ece-5bda-11ef-adbb-c18859564890.png\n",
      "Converted and compressed 5808023f-5bda-11ef-9ac0-c18859564890.jpg to /home/ayman/AI Projects/Iris Detection/iris_data/val/images_png/5808023f-5bda-11ef-9ac0-c18859564890.png\n",
      "Converted and compressed 574be3c3-5bda-11ef-8833-c18859564890.jpg to /home/ayman/AI Projects/Iris Detection/iris_data/val/images_png/574be3c3-5bda-11ef-8833-c18859564890.png\n",
      "Converted and compressed 54bbea88-5bda-11ef-a93d-c18859564890.jpg to /home/ayman/AI Projects/Iris Detection/iris_data/val/images_png/54bbea88-5bda-11ef-a93d-c18859564890.png\n",
      "Converted and compressed 557776ca-5bda-11ef-97cc-c18859564890.jpg to /home/ayman/AI Projects/Iris Detection/iris_data/val/images_png/557776ca-5bda-11ef-97cc-c18859564890.png\n",
      "Converted and compressed 399bd953-6341-11ef-8ebd-d03745d54dfb.jpg to /home/ayman/AI Projects/Iris Detection/iris_data/val/images_png/399bd953-6341-11ef-8ebd-d03745d54dfb.png\n",
      "Converted and compressed 360869b2-6341-11ef-890c-d03745d54dfb.jpg to /home/ayman/AI Projects/Iris Detection/iris_data/val/images_png/360869b2-6341-11ef-890c-d03745d54dfb.png\n",
      "Converted and compressed 3ed44da9-6341-11ef-bb0a-d03745d54dfb.jpg to /home/ayman/AI Projects/Iris Detection/iris_data/val/images_png/3ed44da9-6341-11ef-bb0a-d03745d54dfb.png\n",
      "Converted and compressed 56ef70f7-5bda-11ef-bee1-c18859564890.jpg to /home/ayman/AI Projects/Iris Detection/iris_data/val/images_png/56ef70f7-5bda-11ef-bee1-c18859564890.png\n",
      "Converted and compressed 545c883d-5bda-11ef-9895-c18859564890.jpg to /home/ayman/AI Projects/Iris Detection/iris_data/val/images_png/545c883d-5bda-11ef-9895-c18859564890.png\n",
      "Converted and compressed 57a8f03b-5bda-11ef-a882-c18859564890.jpg to /home/ayman/AI Projects/Iris Detection/iris_data/val/images_png/57a8f03b-5bda-11ef-a882-c18859564890.png\n",
      "Converted and compressed 375e7567-6341-11ef-a892-d03745d54dfb.jpg to /home/ayman/AI Projects/Iris Detection/iris_data/val/images_png/375e7567-6341-11ef-a892-d03745d54dfb.png\n",
      "Converted and compressed 3de27773-6341-11ef-bc9e-d03745d54dfb.jpg to /home/ayman/AI Projects/Iris Detection/iris_data/val/images_png/3de27773-6341-11ef-bc9e-d03745d54dfb.png\n",
      "Converted and compressed 597bbd93-5bda-11ef-9312-c18859564890.jpg to /home/ayman/AI Projects/Iris Detection/iris_data/val/images_png/597bbd93-5bda-11ef-9312-c18859564890.png\n",
      "Converted and compressed 422c6675-6341-11ef-a01f-d03745d54dfb.jpg to /home/ayman/AI Projects/Iris Detection/iris_data/val/images_png/422c6675-6341-11ef-a01f-d03745d54dfb.png\n",
      "Converted and compressed 37cf38d0-6341-11ef-9347-d03745d54dfb.jpg to /home/ayman/AI Projects/Iris Detection/iris_data/val/images_png/37cf38d0-6341-11ef-9347-d03745d54dfb.png\n",
      "Converted and compressed 5634fe43-5bda-11ef-8adc-c18859564890.jpg to /home/ayman/AI Projects/Iris Detection/iris_data/val/images_png/5634fe43-5bda-11ef-8adc-c18859564890.png\n",
      "Converted and compressed 591c22b9-5bda-11ef-92b1-c18859564890.jpg to /home/ayman/AI Projects/Iris Detection/iris_data/val/images_png/591c22b9-5bda-11ef-92b1-c18859564890.png\n",
      "Converted and compressed 55d8b504-5bda-11ef-9fb4-c18859564890.jpg to /home/ayman/AI Projects/Iris Detection/iris_data/val/images_png/55d8b504-5bda-11ef-9fb4-c18859564890.png\n",
      "Converted and compressed 551826a3-5bda-11ef-a970-c18859564890.jpg to /home/ayman/AI Projects/Iris Detection/iris_data/val/images_png/551826a3-5bda-11ef-a970-c18859564890.png\n",
      "Converted and compressed 56945900-5bda-11ef-9a7f-c18859564890.jpg to /home/ayman/AI Projects/Iris Detection/iris_data/val/images_png/56945900-5bda-11ef-9a7f-c18859564890.png\n",
      "Converted and compressed 58bf6a45-5bda-11ef-948d-c18859564890.jpg to /home/ayman/AI Projects/Iris Detection/iris_data/val/images_png/58bf6a45-5bda-11ef-948d-c18859564890.png\n",
      "Converted and compressed 4412f03e-6341-11ef-ab23-d03745d54dfb.jpg to /home/ayman/AI Projects/Iris Detection/iris_data/val/images_png/4412f03e-6341-11ef-ab23-d03745d54dfb.png\n",
      "Converted and compressed 4508d923-6341-11ef-a429-d03745d54dfb.jpg to /home/ayman/AI Projects/Iris Detection/iris_data/val/images_png/4508d923-6341-11ef-a429-d03745d54dfb.png\n",
      "Converted and compressed 53ff0eed-5bda-11ef-94af-c18859564890.jpg to /home/ayman/AI Projects/Iris Detection/iris_data/val/images_png/53ff0eed-5bda-11ef-94af-c18859564890.png\n",
      "Converted and compressed 3fca440e-6341-11ef-91a9-d03745d54dfb.jpg to /home/ayman/AI Projects/Iris Detection/iris_data/val/images_png/3fca440e-6341-11ef-91a9-d03745d54dfb.png\n"
     ]
    }
   ],
   "source": [
    "import os\n",
    "from PIL import Image\n",
    "from concurrent.futures import ThreadPoolExecutor\n",
    "\n",
    "def convert_and_compress_image(filename, input_dir, output_dir, compression_level):\n",
    "    if filename.lower().endswith(\".jpg\") or filename.lower().endswith(\".jpeg\"):\n",
    "        # Open the image file\n",
    "        img_path = os.path.join(input_dir, filename)\n",
    "        img = Image.open(img_path)\n",
    "        # resize the image to 1280x720\n",
    "        img = img.resize((1280, 720))\n",
    "        # Convert image to PNG\n",
    "        base_name = os.path.splitext(filename)[0]\n",
    "        output_path = os.path.join(output_dir, f\"{base_name}.png\")\n",
    "        \n",
    "        # Save the image with compression\n",
    "        img.save(output_path, format=\"PNG\", optimize=True, compress_level=compression_level)\n",
    "        print(f\"Converted and compressed {filename} to {output_path}\")\n",
    "\n",
    "def convert_and_compress_images(input_dir, output_dir, compression_level=9, max_workers=8):\n",
    "    # Create output directory if it doesn't exist\n",
    "    os.makedirs(output_dir, exist_ok=True)\n",
    "    \n",
    "    # Get the list of files\n",
    "    files = [f for f in os.listdir(input_dir) if f.lower().endswith((\".jpg\", \".jpeg\"))]\n",
    "    \n",
    "    # Use ThreadPoolExecutor to process images in parallel\n",
    "    with ThreadPoolExecutor(max_workers=max_workers) as executor:\n",
    "        futures = [\n",
    "            executor.submit(convert_and_compress_image, filename, input_dir, output_dir, compression_level)\n",
    "            for filename in files\n",
    "        ]\n",
    "        for future in futures:\n",
    "            future.result()\n",
    "\n",
    "# Usage example\n",
    "input_directory = \"/home/ayman/AI Projects/Iris Detection/iris_data/val/images\"\n",
    "output_directory = \"/home/ayman/AI Projects/Iris Detection/iris_data/val/images_png\"\n",
    "compression_lvl = 0  # Compression level (0-9), 9 is the maximum compression\n",
    "\n",
    "convert_and_compress_images(input_directory, output_directory, compression_lvl)\n"
   ]
  },
  {
   "cell_type": "code",
   "execution_count": null,
   "metadata": {},
   "outputs": [],
   "source": []
  }
 ],
 "metadata": {
  "kernelspec": {
   "display_name": "Python 3",
   "language": "python",
   "name": "python3"
  },
  "language_info": {
   "codemirror_mode": {
    "name": "ipython",
    "version": 3
   },
   "file_extension": ".py",
   "mimetype": "text/x-python",
   "name": "python",
   "nbconvert_exporter": "python",
   "pygments_lexer": "ipython3",
   "version": "3.12.3"
  }
 },
 "nbformat": 4,
 "nbformat_minor": 2
}
