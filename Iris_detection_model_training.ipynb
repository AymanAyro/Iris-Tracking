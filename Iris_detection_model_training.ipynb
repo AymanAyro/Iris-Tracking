{
 "cells": [
  {
   "cell_type": "code",
   "execution_count": null,
   "metadata": {},
   "outputs": [],
   "source": []
  },
  {
   "cell_type": "code",
   "execution_count": null,
   "metadata": {},
   "outputs": [],
   "source": []
  },
  {
   "cell_type": "markdown",
   "metadata": {},
   "source": [
    "## Libraries"
   ]
  },
  {
   "cell_type": "code",
   "execution_count": 1,
   "metadata": {},
   "outputs": [
    {
     "name": "stderr",
     "output_type": "stream",
     "text": [
      "2024-08-26 05:47:39.426541: E external/local_xla/xla/stream_executor/cuda/cuda_fft.cc:485] Unable to register cuFFT factory: Attempting to register factory for plugin cuFFT when one has already been registered\n",
      "2024-08-26 05:47:39.714988: E external/local_xla/xla/stream_executor/cuda/cuda_dnn.cc:8454] Unable to register cuDNN factory: Attempting to register factory for plugin cuDNN when one has already been registered\n",
      "2024-08-26 05:47:39.793958: E external/local_xla/xla/stream_executor/cuda/cuda_blas.cc:1452] Unable to register cuBLAS factory: Attempting to register factory for plugin cuBLAS when one has already been registered\n",
      "2024-08-26 05:47:40.388444: I tensorflow/core/platform/cpu_feature_guard.cc:210] This TensorFlow binary is optimized to use available CPU instructions in performance-critical operations.\n",
      "To enable the following instructions: AVX2 FMA, in other operations, rebuild TensorFlow with the appropriate compiler flags.\n",
      "2024-08-26 05:47:43.275756: W tensorflow/compiler/tf2tensorrt/utils/py_utils.cc:38] TF-TRT Warning: Could not find TensorRT\n"
     ]
    }
   ],
   "source": [
    "import os\n",
    "import cv2\n",
    "import tensorflow as tf\n",
    "import datetime\n",
    "import numpy as np\n",
    "import matplotlib.pyplot as plt\n",
    "import json\n",
    "from comet_ml import Experiment\n",
    "from tensorflow.keras.applications.efficientnet import preprocess_input as efficientnet_preprocess_input\n",
    "from tensorflow.keras.applications.resnet_v2 import preprocess_input as resnet_preprocess_input"
   ]
  },
  {
   "cell_type": "code",
   "execution_count": 2,
   "metadata": {},
   "outputs": [],
   "source": [
    "%load_ext tensorboard"
   ]
  },
  {
   "cell_type": "markdown",
   "metadata": {},
   "source": [
    "## Load Data"
   ]
  },
  {
   "cell_type": "code",
   "execution_count": 3,
   "metadata": {},
   "outputs": [],
   "source": [
    "train_dir = r\"/home/ayman/AI Projects/Iris Detection/iris_data/aug_data/train\"\n",
    "test_dir = r\"/home/ayman/AI Projects/Iris Detection/iris_data/aug_data/test\"\n",
    "val_dir = r\"/home/ayman/AI Projects/Iris Detection/iris_data/aug_data/val\"\n",
    "train_images_dir = os.path.join(train_dir, \"images\")\n",
    "train_labels_dir = os.path.join(train_dir, \"labels\")\n",
    "test_images_dir = os.path.join(test_dir, \"images\")\n",
    "test_labels_dir = os.path.join(test_dir, \"labels\")\n",
    "val_images_dir = os.path.join(val_dir, \"images\")\n",
    "val_labels_dir = os.path.join(val_dir, \"labels\")"
   ]
  },
  {
   "cell_type": "code",
   "execution_count": 4,
   "metadata": {},
   "outputs": [],
   "source": [
    "resolution = 224"
   ]
  },
  {
   "cell_type": "code",
   "execution_count": 5,
   "metadata": {},
   "outputs": [],
   "source": [
    "def load_image(image_path, resolution, model_type='efficientnet'):\n",
    "    # Load and preprocess image\n",
    "    image = tf.io.read_file(image_path)\n",
    "    image = tf.image.decode_png(image, channels=3)\n",
    "    image = tf.image.resize(image, [resolution, resolution])\n",
    "    \n",
    "    if model_type == 'efficientnet':\n",
    "        image = efficientnet_preprocess_input(image)\n",
    "    elif model_type == 'resnet':\n",
    "        image = resnet_preprocess_input(image)\n",
    "    else:\n",
    "        raise ValueError(f\"Unsupported model type: {model_type}\")\n",
    "    \n",
    "    return image\n",
    "\n",
    "\n",
    "def load_label(label_path):\n",
    "    def parse_json(file_path):\n",
    "        with open(file_path.decode('utf-8'), 'r') as f:\n",
    "            data = json.load(f)\n",
    "            return np.array(data['keypoints'], dtype=np.float16)\n",
    "\n",
    "    # Use tf.numpy_function to wrap the custom function\n",
    "    label = tf.numpy_function(parse_json, [label_path], tf.float16)\n",
    "    # Specify the output shape\n",
    "    label.set_shape([4])  # Adjust based on your actual label size\n",
    "\n",
    "    return label\n",
    "\n",
    "def data_generator(image_paths, label_paths, batch_size=32, augment=False, shuffle=True):\n",
    "    dataset = tf.data.Dataset.from_tensor_slices((image_paths, label_paths))\n",
    "    \n",
    "    if shuffle:\n",
    "        dataset = dataset.shuffle(buffer_size=len(image_paths))\n",
    "    \n",
    "    dataset = dataset.map(lambda x, y: (load_image(x, resolution=resolution), load_label(y)), num_parallel_calls=tf.data.AUTOTUNE)\n",
    "    \n",
    "    if augment:\n",
    "        def augment(image, label):\n",
    "            image = tf.image.random_flip_left_right(image)\n",
    "            image = tf.image.random_contrast(image, 0.8, 1.2)\n",
    "            image = tf.image.random_brightness(image, 0.2)\n",
    "            return image, label\n",
    "        dataset = dataset.map(augment, num_parallel_calls=tf.data.AUTOTUNE)\n",
    "    \n",
    "    dataset = dataset.batch(batch_size)\n",
    "    dataset = dataset.prefetch(buffer_size=tf.data.AUTOTUNE)\n",
    "    \n",
    "    return dataset\n",
    "\n",
    "def get_sorted_file_paths(image_dir, label_dir):\n",
    "    image_paths = sorted([os.path.join(image_dir, file) for file in os.listdir(image_dir) if file.endswith('.png') or file.endswith('.jpg')])\n",
    "    label_paths = sorted([os.path.join(label_dir, file) for file in os.listdir(label_dir) if file.endswith('.json')])\n",
    "    \n",
    "    if len(image_paths) != len(label_paths):\n",
    "        raise ValueError(\"Number of images and labels do not match\")\n",
    "    \n",
    "    return image_paths, label_paths"
   ]
  },
  {
   "cell_type": "code",
   "execution_count": 6,
   "metadata": {},
   "outputs": [],
   "source": [
    "batch_size = 100"
   ]
  },
  {
   "cell_type": "code",
   "execution_count": 7,
   "metadata": {},
   "outputs": [
    {
     "data": {
      "text/plain": [
       "(7250, 7250)"
      ]
     },
     "execution_count": 7,
     "metadata": {},
     "output_type": "execute_result"
    }
   ],
   "source": [
    "len(os.listdir(train_images_dir)), len(os.listdir(train_labels_dir))"
   ]
  },
  {
   "cell_type": "code",
   "execution_count": 8,
   "metadata": {},
   "outputs": [
    {
     "name": "stderr",
     "output_type": "stream",
     "text": [
      "WARNING: All log messages before absl::InitializeLog() is called are written to STDERR\n",
      "I0000 00:00:1724640471.351758  204523 cuda_executor.cc:1001] could not open file to read NUMA node: /sys/bus/pci/devices/0000:01:00.0/numa_node\n",
      "Your kernel may have been built without NUMA support.\n",
      "I0000 00:00:1724640472.083324  204523 cuda_executor.cc:1001] could not open file to read NUMA node: /sys/bus/pci/devices/0000:01:00.0/numa_node\n",
      "Your kernel may have been built without NUMA support.\n",
      "I0000 00:00:1724640472.083533  204523 cuda_executor.cc:1001] could not open file to read NUMA node: /sys/bus/pci/devices/0000:01:00.0/numa_node\n",
      "Your kernel may have been built without NUMA support.\n",
      "I0000 00:00:1724640472.089013  204523 cuda_executor.cc:1001] could not open file to read NUMA node: /sys/bus/pci/devices/0000:01:00.0/numa_node\n",
      "Your kernel may have been built without NUMA support.\n",
      "I0000 00:00:1724640472.089167  204523 cuda_executor.cc:1001] could not open file to read NUMA node: /sys/bus/pci/devices/0000:01:00.0/numa_node\n",
      "Your kernel may have been built without NUMA support.\n",
      "I0000 00:00:1724640472.089201  204523 cuda_executor.cc:1001] could not open file to read NUMA node: /sys/bus/pci/devices/0000:01:00.0/numa_node\n",
      "Your kernel may have been built without NUMA support.\n",
      "I0000 00:00:1724640472.557097  204523 cuda_executor.cc:1001] could not open file to read NUMA node: /sys/bus/pci/devices/0000:01:00.0/numa_node\n",
      "Your kernel may have been built without NUMA support.\n",
      "I0000 00:00:1724640472.557361  204523 cuda_executor.cc:1001] could not open file to read NUMA node: /sys/bus/pci/devices/0000:01:00.0/numa_node\n",
      "Your kernel may have been built without NUMA support.\n",
      "2024-08-26 05:47:52.557376: I tensorflow/core/common_runtime/gpu/gpu_device.cc:2112] Could not identify NUMA node of platform GPU id 0, defaulting to 0.  Your kernel may not have been built with NUMA support.\n",
      "I0000 00:00:1724640472.557467  204523 cuda_executor.cc:1001] could not open file to read NUMA node: /sys/bus/pci/devices/0000:01:00.0/numa_node\n",
      "Your kernel may have been built without NUMA support.\n",
      "2024-08-26 05:47:52.559383: I tensorflow/core/common_runtime/gpu/gpu_device.cc:2021] Created device /job:localhost/replica:0/task:0/device:GPU:0 with 9711 MB memory:  -> device: 0, name: NVIDIA GeForce RTX 3060, pci bus id: 0000:01:00.0, compute capability: 8.6\n"
     ]
    }
   ],
   "source": [
    "train_image_paths, train_label_paths = get_sorted_file_paths(train_images_dir, train_labels_dir)\n",
    "test_image_paths, test_label_paths = get_sorted_file_paths(test_images_dir, test_labels_dir)\n",
    "val_image_paths, val_label_paths = get_sorted_file_paths(val_images_dir, val_labels_dir)\n",
    "\n",
    "train_gen = data_generator(train_image_paths, train_label_paths, shuffle=True, batch_size=batch_size)\n",
    "test_gen = data_generator(test_image_paths, test_label_paths, shuffle=False, batch_size=batch_size)\n",
    "val_gen = data_generator(val_image_paths, val_label_paths, shuffle=False, batch_size=batch_size)"
   ]
  },
  {
   "cell_type": "code",
   "execution_count": 9,
   "metadata": {},
   "outputs": [],
   "source": [
    "data_iter = iter(train_gen)"
   ]
  },
  {
   "cell_type": "code",
   "execution_count": 10,
   "metadata": {},
   "outputs": [],
   "source": [
    "X_train, y_train = next(data_iter)"
   ]
  },
  {
   "cell_type": "code",
   "execution_count": 11,
   "metadata": {},
   "outputs": [
    {
     "data": {
      "text/plain": [
       "(TensorShape([100, 224, 224, 3]), TensorShape([100, 4]))"
      ]
     },
     "execution_count": 11,
     "metadata": {},
     "output_type": "execute_result"
    }
   ],
   "source": [
    "X_train.shape, y_train.shape"
   ]
  },
  {
   "cell_type": "code",
   "execution_count": 12,
   "metadata": {},
   "outputs": [
    {
     "data": {
      "text/plain": [
       "<tf.Tensor: shape=(4,), dtype=float16, numpy=array([0.361 , 0.3328, 0.4385, 0.3574], dtype=float16)>"
      ]
     },
     "execution_count": 12,
     "metadata": {},
     "output_type": "execute_result"
    }
   ],
   "source": [
    "y_train[0]"
   ]
  },
  {
   "cell_type": "code",
   "execution_count": 13,
   "metadata": {},
   "outputs": [
    {
     "name": "stdout",
     "output_type": "stream",
     "text": [
      "Image path: /home/ayman/AI Projects/Iris Detection/iris_data/aug_data/train/images/26f54047-5bda-11ef-a436-c18859564890.0.png\n",
      "Label: tf.Tensor([0.361  0.3328 0.4385 0.3574], shape=(4,), dtype=float16)\n",
      "Image path: /home/ayman/AI Projects/Iris Detection/iris_data/aug_data/train/images/26f54047-5bda-11ef-a436-c18859564890.1.png\n",
      "Label: tf.Tensor([0.2267 0.292  0.3416 0.266 ], shape=(4,), dtype=float16)\n",
      "Image path: /home/ayman/AI Projects/Iris Detection/iris_data/aug_data/train/images/26f54047-5bda-11ef-a436-c18859564890.10.png\n",
      "Label: tf.Tensor([0.3198 0.3606 0.2423 0.4114], shape=(4,), dtype=float16)\n"
     ]
    }
   ],
   "source": [
    "for i in range(3):\n",
    "    print(\"Image path:\", train_image_paths[i])\n",
    "    print(\"Label:\", y_train[i])"
   ]
  },
  {
   "cell_type": "code",
   "execution_count": 14,
   "metadata": {},
   "outputs": [
    {
     "data": {
      "text/plain": [
       "<tf.Tensor: shape=(224, 224, 3), dtype=float32, numpy=\n",
       "array([[[102.53571 , 103.67729 , 107.761475],\n",
       "        [117.70153 , 124.386475, 128.13521 ],\n",
       "        [137.54208 , 142.67091 , 148.84311 ],\n",
       "        ...,\n",
       "        [187.46184 , 193.60704 , 183.93727 ],\n",
       "        [189.92616 , 191.75122 , 195.14044 ],\n",
       "        [192.20003 , 194.94533 , 198.40291 ]],\n",
       "\n",
       "       [[103.60332 ,  99.41581 , 107.688774],\n",
       "        [115.78189 , 123.19388 , 124.      ],\n",
       "        [136.99362 , 143.3699  , 145.02296 ],\n",
       "        ...,\n",
       "        [180.65329 , 192.50636 , 190.89958 ],\n",
       "        [189.50758 , 195.33423 , 198.4235  ],\n",
       "        [190.92728 , 195.25137 , 196.06381 ]],\n",
       "\n",
       "       [[ 94.46938 ,  99.97832 , 102.34311 ],\n",
       "        [111.13265 , 117.11224 , 118.55485 ],\n",
       "        [133.11862 , 139.14668 , 144.78444 ],\n",
       "        ...,\n",
       "        [185.28702 , 193.28812 , 192.60303 ],\n",
       "        [190.00876 , 193.77704 , 197.52931 ],\n",
       "        [192.88875 , 193.45923 , 200.75119 ]],\n",
       "\n",
       "       ...,\n",
       "\n",
       "       [[ 54.226902,  54.156986,  55.205738],\n",
       "        [ 53.916004,  54.24734 ,  56.544735],\n",
       "        [ 53.7232  ,  51.255005,  58.502502],\n",
       "        ...,\n",
       "        [132.52644 , 165.89435 , 202.72227 ],\n",
       "        [132.14021 , 163.54478 , 204.52026 ],\n",
       "        [133.62349 , 163.69148 , 196.45706 ]],\n",
       "\n",
       "       [[ 57.381245,  52.83151 ,  57.60846 ],\n",
       "        [ 55.352192,  50.686325,  56.618668],\n",
       "        [ 54.02296 ,  50.135014,  55.67721 ],\n",
       "        ...,\n",
       "        [132.30309 , 167.16321 , 202.84822 ],\n",
       "        [132.41805 , 162.7933  , 198.04361 ],\n",
       "        [129.10718 , 159.88132 , 202.74207 ]],\n",
       "\n",
       "       [[ 52.417126,  49.99108 ,  55.287014],\n",
       "        [ 52.650513,  54.830315,  56.009056],\n",
       "        [ 53.55868 ,  50.60096 ,  58.212883],\n",
       "        ...,\n",
       "        [132.5062  , 169.62227 , 203.42374 ],\n",
       "        [129.67627 , 164.1836  , 199.93759 ],\n",
       "        [131.48709 , 160.7359  , 193.83444 ]]], dtype=float32)>"
      ]
     },
     "execution_count": 14,
     "metadata": {},
     "output_type": "execute_result"
    }
   ],
   "source": [
    "X_train[0]"
   ]
  },
  {
   "cell_type": "code",
   "execution_count": 15,
   "metadata": {},
   "outputs": [
    {
     "name": "stderr",
     "output_type": "stream",
     "text": [
      "Clipping input data to the valid range for imshow with RGB data ([0..1] for floats or [0..255] for integers).\n",
      "Clipping input data to the valid range for imshow with RGB data ([0..1] for floats or [0..255] for integers).\n",
      "Clipping input data to the valid range for imshow with RGB data ([0..1] for floats or [0..255] for integers).\n",
      "Clipping input data to the valid range for imshow with RGB data ([0..1] for floats or [0..255] for integers).\n",
      "Clipping input data to the valid range for imshow with RGB data ([0..1] for floats or [0..255] for integers).\n",
      "Clipping input data to the valid range for imshow with RGB data ([0..1] for floats or [0..255] for integers).\n",
      "Clipping input data to the valid range for imshow with RGB data ([0..1] for floats or [0..255] for integers).\n",
      "Clipping input data to the valid range for imshow with RGB data ([0..1] for floats or [0..255] for integers).\n",
      "Clipping input data to the valid range for imshow with RGB data ([0..1] for floats or [0..255] for integers).\n"
     ]
    },
    {
     "name": "stdout",
     "output_type": "stream",
     "text": [
      "Image 0: Coord1 (80, 74), Coord2 (98, 80)\n",
      "Image 1: Coord1 (50, 65), Coord2 (76, 59)\n",
      "Image 2: Coord1 (71, 80), Coord2 (54, 92)\n",
      "Image 3: Coord1 (35, 87), Coord2 (53, 79)\n",
      "Image 4: Coord1 (126, 87), Coord2 (107, 78)\n",
      "Image 5: Coord1 (105, 57), Coord2 (83, 43)\n",
      "Image 6: Coord1 (31, 81), Coord2 (45, 74)\n",
      "Image 7: Coord1 (69, 76), Coord2 (87, 68)\n",
      "Image 8: Coord1 (79, 60), Coord2 (94, 65)\n"
     ]
    },
    {
     "data": {
      "image/png": "[encoded data removed]",
      "text/plain": [
       "<Figure size 800x800 with 9 Axes>"
      ]
     },
     "metadata": {},
     "output_type": "display_data"
    }
   ],
   "source": [
    "# Reverse the EfficientNet preprocessing\n",
    "def reverse_efficientnet_preprocess(image):\n",
    "    mean = np.array([0.485, 0.456, 0.406])\n",
    "    std = np.array([0.229, 0.224, 0.225])\n",
    "    image = (image * std) + mean  # Reverse the normalization\n",
    "    image = np.clip(image * 255, 0, 255).astype(np.uint8)\n",
    "    return image # Convert back to [0, 255]\n",
    "\n",
    "# Adjust the coordinates to match the original image resolution\n",
    "def correct_coordinates(label, image_size=(resolution, resolution)):\n",
    "    return tuple(np.multiply(label, image_size).astype(int))\n",
    "\n",
    "# Plotting the images and the keypoints\n",
    "fig, ax = plt.subplots(3, 3, figsize=(8, 8))\n",
    "\n",
    "# Choose the preprocessing method\n",
    "model_type = 'efficientnet'  # or 'resnet' depending on your original model\n",
    "\n",
    "for i in range(9):\n",
    "    sample_image = X_train[i].numpy()\n",
    "    # Reverse the preprocessing\n",
    "    # sample_image = reverse_efficientnet_preprocess(sample_image)\n",
    "    \n",
    "    sample_image = np.array(sample_image, dtype=np.float32)\n",
    "    \n",
    "    sample_label = y_train[i].numpy()\n",
    "    \n",
    "    # Correct the coordinates based on original resolution\n",
    "    coord1 = correct_coordinates(sample_label[0:2])\n",
    "    coord2 = correct_coordinates(sample_label[2:4])\n",
    "    \n",
    "    print(f\"Image {i}: Coord1 {coord1}, Coord2 {coord2}\")\n",
    "    \n",
    "    # Draw circles for the keypoints\n",
    "    cv2.circle(sample_image, coord1, 3, (255, 0, 0), -1)\n",
    "    cv2.circle(sample_image, coord2, 3, (0, 0, 255), -1)\n",
    "    \n",
    "    ax[i//3, i%3].imshow(sample_image)\n",
    "    ax[i//3, i%3].axis('off')\n",
    "\n",
    "plt.show()"
   ]
  },
  {
   "cell_type": "markdown",
   "metadata": {},
   "source": [
    "## Modelling"
   ]
  },
  {
   "cell_type": "code",
   "execution_count": 16,
   "metadata": {},
   "outputs": [],
   "source": [
    "from tensorflow.keras import layers, models\n",
    "from tensorflow.keras.applications import EfficientNetB3"
   ]
  },
  {
   "cell_type": "markdown",
   "metadata": {},
   "source": [
    "1. Backbone Architecture"
   ]
  },
  {
   "cell_type": "code",
   "execution_count": 17,
   "metadata": {},
   "outputs": [],
   "source": [
    "backbone = EfficientNetB3(weights='imagenet', include_top=False, input_tensor=layers.Input(batch_shape=(None, resolution, resolution, 3)))"
   ]
  },
  {
   "cell_type": "markdown",
   "metadata": {},
   "source": [
    "2. Full Architecture"
   ]
  },
  {
   "cell_type": "code",
   "execution_count": 18,
   "metadata": {},
   "outputs": [
    {
     "name": "stderr",
     "output_type": "stream",
     "text": [
      "/home/ayman/.local/lib/python3.12/site-packages/keras/src/layers/convolutional/base_conv.py:107: UserWarning: Do not pass an `input_shape`/`input_dim` argument to a layer. When using Sequential models, prefer using an `Input(shape)` object as the first layer in the model instead.\n",
      "  super().__init__(activity_regularizer=activity_regularizer, **kwargs)\n"
     ]
    }
   ],
   "source": [
    "# freeze layers\n",
    "# for layer in backbone.layers[:-31]:\n",
    "#     layer.trainable = False\n",
    "backbone.layers[0] = layers.Conv2D(40, 3,  padding='same', activation='relu', input_shape=(resolution, resolution, 3), use_bias=False)\n",
    "\n",
    "model = models.Sequential()\n",
    "x = backbone.output\n",
    "x = layers.Conv2D(256, 3, padding='same' ,activation='relu')(x)\n",
    "x = layers.BatchNormalization()(x)\n",
    "# x = layers.Conv2D(512, 3, padding='same' ,activation='relu')(x)\n",
    "# x = layers.BatchNormalization()(x)\n",
    "x = layers.Conv2D(128, 3, padding='same' ,activation='relu')(x)\n",
    "x = layers.BatchNormalization()(x)\n",
    "# x = layers.Conv2D(256, 3, padding='same' ,activation='relu')(x)\n",
    "# x = layers.BatchNormalization()(x)\n",
    "x = layers.Conv2D(64, 3,  padding='same' ,activation='relu')(x)\n",
    "x = layers.BatchNormalization()(x)\n",
    "# x = layers.Conv2D(128, 3,2, padding='same' ,activation='relu')(x)\n",
    "\n",
    "x = layers.Dropout(0.5)(x)\n",
    "x = layers.Conv2D(4, (2, 2), activation='linear')(x)\n",
    "x = layers.GlobalAveragePooling2D()(x)\n",
    "\n",
    "\n",
    "model = models.Model(backbone.input, x, name='Iris_Detection_ModelV4')\n",
    "# model.summary()"
   ]
  },
  {
   "cell_type": "markdown",
   "metadata": {},
   "source": [
    "3. Compiling"
   ]
  },
  {
   "cell_type": "code",
   "execution_count": 19,
   "metadata": {},
   "outputs": [],
   "source": [
    "# set policy\n",
    "policy = tf.keras.mixed_precision.Policy('mixed_float16')\n",
    "tf.keras.mixed_precision.set_global_policy(policy)"
   ]
  },
  {
   "cell_type": "code",
   "execution_count": 20,
   "metadata": {},
   "outputs": [],
   "source": [
    "optimizer = tf.keras.optimizers.AdamW(learning_rate=1e-3, beta_1=0.9, beta_2=0.937, weight_decay=0.007)\n",
    "optimizer = tf.keras.mixed_precision.LossScaleOptimizer(optimizer)\n",
    "loss = tf.keras.losses.Huber(delta=0.2)\n",
    "model.compile(optimizer=optimizer, loss=loss, metrics=['mse', 'mae'])"
   ]
  },
  {
   "cell_type": "code",
   "execution_count": 21,
   "metadata": {},
   "outputs": [],
   "source": [
    "def cosine_schedule_with_warmup(epoch):\n",
    "    min_lr = 1e-5\n",
    "    max_lr = 1e-3\n",
    "    warmup_epochs = 10\n",
    "    total_epochs = 80  # Set this to the total number of epochs for your training\n",
    "\n",
    "    if epoch < warmup_epochs:\n",
    "        # Linear warmup\n",
    "        lr = (max_lr - min_lr) / warmup_epochs * epoch + min_lr\n",
    "    else:\n",
    "        # Cosine annealing after warmup\n",
    "        progress = (epoch - warmup_epochs) / (total_epochs - warmup_epochs)\n",
    "        lr = min_lr + 0.5 * (max_lr - min_lr) * (1 + np.cos(progress * np.pi))\n",
    "    \n",
    "    return lr\n",
    "\n",
    "# Create a callback for the learning rate schedule\n",
    "lr_callback = tf.keras.callbacks.LearningRateScheduler(cosine_schedule_with_warmup)"
   ]
  },
  {
   "cell_type": "code",
   "execution_count": 22,
   "metadata": {},
   "outputs": [],
   "source": [
    "# steps_per_epoch = len(train_image_paths) // batch_size\n",
    "# validation_steps = len(val_image_paths) // batch_size"
   ]
  },
  {
   "cell_type": "code",
   "execution_count": 23,
   "metadata": {},
   "outputs": [
    {
     "name": "stderr",
     "output_type": "stream",
     "text": [
      "\u001b[1;38;5;214mCOMET WARNING:\u001b[0m To get all data logged automatically, import comet_ml before the following modules: keras, tensorflow.\n",
      "\u001b[1;38;5;214mCOMET WARNING:\u001b[0m As you are running in a Jupyter environment, you will need to call `experiment.end()` when finished to ensure all metrics and code are logged before exiting.\n"
     ]
    },
    {
     "name": "stderr",
     "output_type": "stream",
     "text": [
      "\u001b[1;38;5;39mCOMET INFO:\u001b[0m Experiment is live on comet.com https://www.comet.com/aymansab0/iris-detection/594ee119b93a42e4b6d761091982cdf3\n",
      "\n"
     ]
    }
   ],
   "source": [
    "experiment = Experiment(\n",
    "    api_key=\"yIHOp6Gk4OJB5NKzKJ2S1v1nu\",\n",
    "    project_name=\"iris-detection\",\n",
    ")\n",
    "writer = tf.summary.create_file_writer(\"./logs\")"
   ]
  },
  {
   "cell_type": "code",
   "execution_count": 24,
   "metadata": {},
   "outputs": [],
   "source": [
    "log_dir = \"logs/fit/\" + datetime.datetime.now().strftime(\"%Y%m%d-%H%M%S\")\n",
    "tensorboard_callback = tf.keras.callbacks.TensorBoard(log_dir=log_dir, histogram_freq=1)"
   ]
  },
  {
   "cell_type": "code",
   "execution_count": 25,
   "metadata": {},
   "outputs": [],
   "source": [
    "# Early stopping callback\n",
    "early_stopping_callback = tf.keras.callbacks.EarlyStopping(monitor='val_loss', patience=20, restore_best_weights=True)\n",
    "# Model checkpoint callback\n",
    "model_checkpoint_callback = tf.keras.callbacks.ModelCheckpoint(\n",
    "    filepath='best_model_2.keras',\n",
    "    save_best_only=True,\n",
    "    monitor='val_loss',\n",
    "    mode='min',\n",
    "    verbose=1\n",
    ")"
   ]
  },
  {
   "cell_type": "code",
   "execution_count": 26,
   "metadata": {},
   "outputs": [
    {
     "name": "stderr",
     "output_type": "stream",
     "text": [
      "\u001b[1;38;5;39mCOMET INFO:\u001b[0m Couldn't find a Git repository in '/home/ayman/AI Projects/Iris Detection/iris_data' nor in any parent directory. Set `COMET_GIT_DIRECTORY` if your Git Repository is elsewhere.\n"
     ]
    },
    {
     "name": "stdout",
     "output_type": "stream",
     "text": [
      "Epoch 1/80\n"
     ]
    },
    {
     "name": "stderr",
     "output_type": "stream",
     "text": [
      "WARNING: All log messages before absl::InitializeLog() is called are written to STDERR\n",
      "I0000 00:00:1724640547.128364  204610 service.cc:146] XLA service 0x7f79dc003460 initialized for platform CUDA (this does not guarantee that XLA will be used). Devices:\n",
      "I0000 00:00:1724640547.128559  204610 service.cc:154]   StreamExecutor device (0): NVIDIA GeForce RTX 3060, Compute Capability 8.6\n",
      "2024-08-26 05:49:08.060312: I tensorflow/compiler/mlir/tensorflow/utils/dump_mlir_util.cc:268] disabling MLIR crash reproducer, set env var `MLIR_CRASH_REPRODUCER_DIRECTORY` to enable.\n",
      "2024-08-26 05:49:16.205839: I external/local_xla/xla/stream_executor/cuda/cuda_dnn.cc:531] Loaded cuDNN version 8907\n",
      "2024-08-26 05:49:56.494734: E external/local_xla/xla/service/slow_operation_alarm.cc:65] Trying algorithm eng46{k2=1,k5=2,k14=5} for conv (f32[100,144,113,113]{3,2,1,0}, u8[0]{0}) custom-call(f32[100,144,115,115]{3,2,1,0}, f32[144,1,3,3]{3,2,1,0}), window={size=3x3}, dim_labels=bf01_oi01->bf01, feature_group_count=144, custom_call_target=\"__cudnn$convForward\", backend_config={\"operation_queue_id\":\"0\",\"wait_on_operation_queues\":[],\"cudnn_conv_backend_config\":{\"conv_result_scale\":1,\"activation_mode\":\"kNone\",\"side_input_scale\":0,\"leakyrelu_alpha\":0},\"force_earliest_schedule\":false} is taking a while...\n",
      "2024-08-26 05:49:57.001976: E external/local_xla/xla/service/slow_operation_alarm.cc:133] The operation took 1.50914674s\n",
      "Trying algorithm eng46{k2=1,k5=2,k14=5} for conv (f32[100,144,113,113]{3,2,1,0}, u8[0]{0}) custom-call(f32[100,144,115,115]{3,2,1,0}, f32[144,1,3,3]{3,2,1,0}), window={size=3x3}, dim_labels=bf01_oi01->bf01, feature_group_count=144, custom_call_target=\"__cudnn$convForward\", backend_config={\"operation_queue_id\":\"0\",\"wait_on_operation_queues\":[],\"cudnn_conv_backend_config\":{\"conv_result_scale\":1,\"activation_mode\":\"kNone\",\"side_input_scale\":0,\"leakyrelu_alpha\":0},\"force_earliest_schedule\":false} is taking a while...\n",
      "2024-08-26 05:49:58.003242: E external/local_xla/xla/service/slow_operation_alarm.cc:65] Trying algorithm eng46{k2=0,k5=2,k14=4} for conv (f32[100,144,113,113]{3,2,1,0}, u8[0]{0}) custom-call(f32[100,144,115,115]{3,2,1,0}, f32[144,1,3,3]{3,2,1,0}), window={size=3x3}, dim_labels=bf01_oi01->bf01, feature_group_count=144, custom_call_target=\"__cudnn$convForward\", backend_config={\"operation_queue_id\":\"0\",\"wait_on_operation_queues\":[],\"cudnn_conv_backend_config\":{\"conv_result_scale\":1,\"activation_mode\":\"kNone\",\"side_input_scale\":0,\"leakyrelu_alpha\":0},\"force_earliest_schedule\":false} is taking a while...\n",
      "2024-08-26 05:49:59.365151: E external/local_xla/xla/service/slow_operation_alarm.cc:133] The operation took 2.363064384s\n",
      "Trying algorithm eng46{k2=0,k5=2,k14=4} for conv (f32[100,144,113,113]{3,2,1,0}, u8[0]{0}) custom-call(f32[100,144,115,115]{3,2,1,0}, f32[144,1,3,3]{3,2,1,0}), window={size=3x3}, dim_labels=bf01_oi01->bf01, feature_group_count=144, custom_call_target=\"__cudnn$convForward\", backend_config={\"operation_queue_id\":\"0\",\"wait_on_operation_queues\":[],\"cudnn_conv_backend_config\":{\"conv_result_scale\":1,\"activation_mode\":\"kNone\",\"side_input_scale\":0,\"leakyrelu_alpha\":0},\"force_earliest_schedule\":false} is taking a while...\n",
      "2024-08-26 05:50:00.366134: E external/local_xla/xla/service/slow_operation_alarm.cc:65] Trying algorithm eng46{k2=1,k5=3,k14=2} for conv (f32[100,144,113,113]{3,2,1,0}, u8[0]{0}) custom-call(f32[100,144,115,115]{3,2,1,0}, f32[144,1,3,3]{3,2,1,0}), window={size=3x3}, dim_labels=bf01_oi01->bf01, feature_group_count=144, custom_call_target=\"__cudnn$convForward\", backend_config={\"operation_queue_id\":\"0\",\"wait_on_operation_queues\":[],\"cudnn_conv_backend_config\":{\"conv_result_scale\":1,\"activation_mode\":\"kNone\",\"side_input_scale\":0,\"leakyrelu_alpha\":0},\"force_earliest_schedule\":false} is taking a while...\n",
      "2024-08-26 05:50:01.721189: E external/local_xla/xla/service/slow_operation_alarm.cc:133] The operation took 2.355871434s\n",
      "Trying algorithm eng46{k2=1,k5=3,k14=2} for conv (f32[100,144,113,113]{3,2,1,0}, u8[0]{0}) custom-call(f32[100,144,115,115]{3,2,1,0}, f32[144,1,3,3]{3,2,1,0}), window={size=3x3}, dim_labels=bf01_oi01->bf01, feature_group_count=144, custom_call_target=\"__cudnn$convForward\", backend_config={\"operation_queue_id\":\"0\",\"wait_on_operation_queues\":[],\"cudnn_conv_backend_config\":{\"conv_result_scale\":1,\"activation_mode\":\"kNone\",\"side_input_scale\":0,\"leakyrelu_alpha\":0},\"force_earliest_schedule\":false} is taking a while...\n",
      "E0000 00:00:1724640626.301123  204610 gpu_timer.cc:183] Delay kernel timed out: measured time has sub-optimal accuracy. There may be a missing warmup execution, please investigate in Nsight Systems.\n",
      "E0000 00:00:1724640626.563344  204610 gpu_timer.cc:183] Delay kernel timed out: measured time has sub-optimal accuracy. There may be a missing warmup execution, please investigate in Nsight Systems.\n",
      "E0000 00:00:1724640626.825604  204610 gpu_timer.cc:183] Delay kernel timed out: measured time has sub-optimal accuracy. There may be a missing warmup execution, please investigate in Nsight Systems.\n",
      "I0000 00:00:1724640689.756239  204610 device_compiler.h:188] Compiled cluster using XLA!  This line is logged at most once for the lifetime of the process.\n"
     ]
    },
    {
     "name": "stdout",
     "output_type": "stream",
     "text": [
      "\u001b[1m72/73\u001b[0m \u001b[32m━━━━━━━━━━━━━━━━━━━\u001b[0m\u001b[37m━\u001b[0m \u001b[1m0s\u001b[0m 485ms/step - loss: 0.0705 - mae: 0.4430 - mse: 0.3141"
     ]
    },
    {
     "name": "stderr",
     "output_type": "stream",
     "text": [
      "E0000 00:00:1724640777.076903  204610 gpu_timer.cc:183] Delay kernel timed out: measured time has sub-optimal accuracy. There may be a missing warmup execution, please investigate in Nsight Systems.\n",
      "E0000 00:00:1724640777.344505  204610 gpu_timer.cc:183] Delay kernel timed out: measured time has sub-optimal accuracy. There may be a missing warmup execution, please investigate in Nsight Systems.\n"
     ]
    },
    {
     "name": "stdout",
     "output_type": "stream",
     "text": [
      "\u001b[1m73/73\u001b[0m \u001b[32m━━━━━━━━━━━━━━━━━━━━\u001b[0m\u001b[37m\u001b[0m \u001b[1m0s\u001b[0m 2s/step - loss: 0.0704 - mae: 0.4422 - mse: 0.3131   "
     ]
    },
    {
     "name": "stderr",
     "output_type": "stream",
     "text": [
      "2024-08-26 05:54:29.103419: W external/local_tsl/tsl/framework/cpu_allocator_impl.cc:83] Allocation of 849346560 exceeds 10% of free system memory.\n"
     ]
    },
    {
     "name": "stdout",
     "output_type": "stream",
     "text": [
      "\n",
      "Epoch 1: val_loss improved from inf to 0.03683, saving model to best_model_2.keras\n",
      "\u001b[1m73/73\u001b[0m \u001b[32m━━━━━━━━━━━━━━━━━━━━\u001b[0m\u001b[37m\u001b[0m \u001b[1m397s\u001b[0m 3s/step - loss: 0.0702 - mae: 0.4415 - mse: 0.3123 - val_loss: 0.0368 - val_mae: 0.2741 - val_mse: 0.1005 - learning_rate: 1.0000e-05\n",
      "Epoch 2/80\n",
      "\u001b[1m73/73\u001b[0m \u001b[32m━━━━━━━━━━━━━━━━━━━━\u001b[0m\u001b[37m\u001b[0m \u001b[1m0s\u001b[0m 519ms/step - loss: 0.0370 - mae: 0.2687 - mse: 0.1205"
     ]
    },
    {
     "name": "stderr",
     "output_type": "stream",
     "text": [
      "2024-08-26 05:55:31.655715: W external/local_tsl/tsl/framework/cpu_allocator_impl.cc:83] Allocation of 849346560 exceeds 10% of free system memory.\n"
     ]
    },
    {
     "name": "stdout",
     "output_type": "stream",
     "text": [
      "\n",
      "Epoch 2: val_loss did not improve from 0.03683\n",
      "\u001b[1m73/73\u001b[0m \u001b[32m━━━━━━━━━━━━━━━━━━━━\u001b[0m\u001b[37m\u001b[0m \u001b[1m49s\u001b[0m 661ms/step - loss: 0.0369 - mae: 0.2682 - mse: 0.1201 - val_loss: 0.0503 - val_mae: 0.3344 - val_mse: 0.2238 - learning_rate: 1.0900e-04\n",
      "Epoch 3/80\n",
      "\u001b[1m73/73\u001b[0m \u001b[32m━━━━━━━━━━━━━━━━━━━━\u001b[0m\u001b[37m\u001b[0m \u001b[1m0s\u001b[0m 476ms/step - loss: 0.0162 - mae: 0.1454 - mse: 0.0678"
     ]
    },
    {
     "name": "stderr",
     "output_type": "stream",
     "text": [
      "2024-08-26 05:56:17.684717: W external/local_tsl/tsl/framework/cpu_allocator_impl.cc:83] Allocation of 849346560 exceeds 10% of free system memory.\n"
     ]
    },
    {
     "name": "stdout",
     "output_type": "stream",
     "text": [
      "\n",
      "Epoch 3: val_loss improved from 0.03683 to 0.00709, saving model to best_model_2.keras\n",
      "\u001b[1m73/73\u001b[0m \u001b[32m━━━━━━━━━━━━━━━━━━━━\u001b[0m\u001b[37m\u001b[0m \u001b[1m59s\u001b[0m 805ms/step - loss: 0.0162 - mae: 0.1451 - mse: 0.0678 - val_loss: 0.0071 - val_mae: 0.0963 - val_mse: 0.0279 - learning_rate: 2.0800e-04\n",
      "Epoch 4/80\n",
      "\u001b[1m73/73\u001b[0m \u001b[32m━━━━━━━━━━━━━━━━━━━━\u001b[0m\u001b[37m\u001b[0m \u001b[1m0s\u001b[0m 475ms/step - loss: 0.0087 - mae: 0.0910 - mse: 0.0616"
     ]
    },
    {
     "name": "stderr",
     "output_type": "stream",
     "text": [
      "2024-08-26 05:57:18.280108: W external/local_tsl/tsl/framework/cpu_allocator_impl.cc:83] Allocation of 849346560 exceeds 10% of free system memory.\n"
     ]
    },
    {
     "name": "stdout",
     "output_type": "stream",
     "text": [
      "\n",
      "Epoch 4: val_loss improved from 0.00709 to 0.00345, saving model to best_model_2.keras\n",
      "\u001b[1m73/73\u001b[0m \u001b[32m━━━━━━━━━━━━━━━━━━━━\u001b[0m\u001b[37m\u001b[0m \u001b[1m61s\u001b[0m 793ms/step - loss: 0.0087 - mae: 0.0909 - mse: 0.0615 - val_loss: 0.0035 - val_mae: 0.0624 - val_mse: 0.0084 - learning_rate: 3.0700e-04\n",
      "Epoch 5/80\n",
      "\u001b[1m73/73\u001b[0m \u001b[32m━━━━━━━━━━━━━━━━━━━━\u001b[0m\u001b[37m\u001b[0m \u001b[1m0s\u001b[0m 478ms/step - loss: 0.0076 - mae: 0.0796 - mse: 0.0635"
     ]
    },
    {
     "name": "stderr",
     "output_type": "stream",
     "text": [
      "2024-08-26 05:58:21.548328: W external/local_tsl/tsl/framework/cpu_allocator_impl.cc:83] Allocation of 849346560 exceeds 10% of free system memory.\n"
     ]
    },
    {
     "name": "stdout",
     "output_type": "stream",
     "text": [
      "\n",
      "Epoch 5: val_loss improved from 0.00345 to 0.00156, saving model to best_model_2.keras\n",
      "\u001b[1m73/73\u001b[0m \u001b[32m━━━━━━━━━━━━━━━━━━━━\u001b[0m\u001b[37m\u001b[0m \u001b[1m61s\u001b[0m 826ms/step - loss: 0.0076 - mae: 0.0796 - mse: 0.0635 - val_loss: 0.0016 - val_mae: 0.0356 - val_mse: 0.0035 - learning_rate: 4.0600e-04\n",
      "Epoch 6/80\n",
      "\u001b[1m73/73\u001b[0m \u001b[32m━━━━━━━━━━━━━━━━━━━━\u001b[0m\u001b[37m\u001b[0m \u001b[1m0s\u001b[0m 482ms/step - loss: 0.0060 - mae: 0.0664 - mse: 0.0439\n",
      "Epoch 6: val_loss did not improve from 0.00156\n",
      "\u001b[1m73/73\u001b[0m \u001b[32m━━━━━━━━━━━━━━━━━━━━\u001b[0m\u001b[37m\u001b[0m \u001b[1m48s\u001b[0m 619ms/step - loss: 0.0060 - mae: 0.0664 - mse: 0.0439 - val_loss: 0.0030 - val_mae: 0.0558 - val_mse: 0.0072 - learning_rate: 5.0500e-04\n",
      "Epoch 7/80\n",
      "\u001b[1m73/73\u001b[0m \u001b[32m━━━━━━━━━━━━━━━━━━━━\u001b[0m\u001b[37m\u001b[0m \u001b[1m0s\u001b[0m 486ms/step - loss: 0.0065 - mae: 0.0692 - mse: 0.0536\n",
      "Epoch 7: val_loss did not improve from 0.00156\n",
      "\u001b[1m73/73\u001b[0m \u001b[32m━━━━━━━━━━━━━━━━━━━━\u001b[0m\u001b[37m\u001b[0m \u001b[1m46s\u001b[0m 622ms/step - loss: 0.0065 - mae: 0.0692 - mse: 0.0535 - val_loss: 0.0019 - val_mae: 0.0391 - val_mse: 0.0044 - learning_rate: 6.0400e-04\n",
      "Epoch 8/80\n",
      "\u001b[1m73/73\u001b[0m \u001b[32m━━━━━━━━━━━━━━━━━━━━\u001b[0m\u001b[37m\u001b[0m \u001b[1m0s\u001b[0m 474ms/step - loss: 0.0054 - mae: 0.0601 - mse: 0.0409\n",
      "Epoch 8: val_loss did not improve from 0.00156\n",
      "\u001b[1m73/73\u001b[0m \u001b[32m━━━━━━━━━━━━━━━━━━━━\u001b[0m\u001b[37m\u001b[0m \u001b[1m45s\u001b[0m 607ms/step - loss: 0.0054 - mae: 0.0601 - mse: 0.0408 - val_loss: 0.0021 - val_mae: 0.0397 - val_mse: 0.0048 - learning_rate: 7.0300e-04\n",
      "Epoch 9/80\n",
      "\u001b[1m73/73\u001b[0m \u001b[32m━━━━━━━━━━━━━━━━━━━━\u001b[0m\u001b[37m\u001b[0m \u001b[1m0s\u001b[0m 487ms/step - loss: 0.0039 - mae: 0.0505 - mse: 0.0248\n",
      "Epoch 9: val_loss did not improve from 0.00156\n",
      "\u001b[1m73/73\u001b[0m \u001b[32m━━━━━━━━━━━━━━━━━━━━\u001b[0m\u001b[37m\u001b[0m \u001b[1m46s\u001b[0m 625ms/step - loss: 0.0039 - mae: 0.0505 - mse: 0.0249 - val_loss: 0.0020 - val_mae: 0.0454 - val_mse: 0.0048 - learning_rate: 8.0200e-04\n",
      "Epoch 10/80\n",
      "\u001b[1m73/73\u001b[0m \u001b[32m━━━━━━━━━━━━━━━━━━━━\u001b[0m\u001b[37m\u001b[0m \u001b[1m0s\u001b[0m 484ms/step - loss: 0.0039 - mae: 0.0487 - mse: 0.0260\n",
      "Epoch 10: val_loss did not improve from 0.00156\n",
      "\u001b[1m73/73\u001b[0m \u001b[32m━━━━━━━━━━━━━━━━━━━━\u001b[0m\u001b[37m\u001b[0m \u001b[1m45s\u001b[0m 606ms/step - loss: 0.0039 - mae: 0.0487 - mse: 0.0260 - val_loss: 0.0023 - val_mae: 0.0496 - val_mse: 0.0054 - learning_rate: 9.0100e-04\n",
      "Epoch 11/80\n",
      "\u001b[1m73/73\u001b[0m \u001b[32m━━━━━━━━━━━━━━━━━━━━\u001b[0m\u001b[37m\u001b[0m \u001b[1m0s\u001b[0m 485ms/step - loss: 0.0034 - mae: 0.0432 - mse: 0.0205\n",
      "Epoch 11: val_loss did not improve from 0.00156\n",
      "\u001b[1m73/73\u001b[0m \u001b[32m━━━━━━━━━━━━━━━━━━━━\u001b[0m\u001b[37m\u001b[0m \u001b[1m46s\u001b[0m 619ms/step - loss: 0.0034 - mae: 0.0432 - mse: 0.0205 - val_loss: 0.3053 - val_mae: 1.5539 - val_mse: 178.2845 - learning_rate: 0.0010\n",
      "Epoch 12/80\n",
      "\u001b[1m73/73\u001b[0m \u001b[32m━━━━━━━━━━━━━━━━━━━━\u001b[0m\u001b[37m\u001b[0m \u001b[1m0s\u001b[0m 484ms/step - loss: 0.0030 - mae: 0.0392 - mse: 0.0171"
     ]
    },
    {
     "name": "stderr",
     "output_type": "stream",
     "text": [
      "2024-08-26 06:03:45.097876: W tensorflow/core/kernels/data/prefetch_autotuner.cc:52] Prefetch autotuner tried to allocate 60212224 bytes after encountering the first element of size 60212224 bytes.This already causes the autotune ram budget to be exceeded. To stay within the ram budget, either increase the ram budget or reduce element size\n"
     ]
    },
    {
     "name": "stdout",
     "output_type": "stream",
     "text": [
      "\n",
      "Epoch 12: val_loss did not improve from 0.00156\n",
      "\u001b[1m73/73\u001b[0m \u001b[32m━━━━━━━━━━━━━━━━━━━━\u001b[0m\u001b[37m\u001b[0m \u001b[1m45s\u001b[0m 607ms/step - loss: 0.0030 - mae: 0.0392 - mse: 0.0171 - val_loss: 0.0022 - val_mae: 0.0403 - val_mse: 0.0059 - learning_rate: 9.9950e-04\n",
      "Epoch 13/80\n",
      "\u001b[1m73/73\u001b[0m \u001b[32m━━━━━━━━━━━━━━━━━━━━\u001b[0m\u001b[37m\u001b[0m \u001b[1m0s\u001b[0m 483ms/step - loss: 0.0028 - mae: 0.0378 - mse: 0.0159\n",
      "Epoch 13: val_loss did not improve from 0.00156\n",
      "\u001b[1m73/73\u001b[0m \u001b[32m━━━━━━━━━━━━━━━━━━━━\u001b[0m\u001b[37m\u001b[0m \u001b[1m50s\u001b[0m 678ms/step - loss: 0.0028 - mae: 0.0377 - mse: 0.0159 - val_loss: 0.0016 - val_mae: 0.0286 - val_mse: 0.0039 - learning_rate: 9.9801e-04\n",
      "Epoch 14/80\n",
      "\u001b[1m73/73\u001b[0m \u001b[32m━━━━━━━━━━━━━━━━━━━━\u001b[0m\u001b[37m\u001b[0m \u001b[1m0s\u001b[0m 483ms/step - loss: 0.0025 - mae: 0.0331 - mse: 0.0133"
     ]
    },
    {
     "name": "stderr",
     "output_type": "stream",
     "text": [
      "2024-08-26 06:05:19.852136: W tensorflow/core/kernels/data/prefetch_autotuner.cc:52] Prefetch autotuner tried to allocate 60212224 bytes after encountering the first element of size 60212224 bytes.This already causes the autotune ram budget to be exceeded. To stay within the ram budget, either increase the ram budget or reduce element size\n"
     ]
    },
    {
     "name": "stdout",
     "output_type": "stream",
     "text": [
      "\n",
      "Epoch 14: val_loss improved from 0.00156 to 0.00148, saving model to best_model_2.keras\n",
      "\u001b[1m73/73\u001b[0m \u001b[32m━━━━━━━━━━━━━━━━━━━━\u001b[0m\u001b[37m\u001b[0m \u001b[1m58s\u001b[0m 791ms/step - loss: 0.0025 - mae: 0.0331 - mse: 0.0132 - val_loss: 0.0015 - val_mae: 0.0277 - val_mse: 0.0035 - learning_rate: 9.9552e-04\n",
      "Epoch 15/80\n",
      "\u001b[1m73/73\u001b[0m \u001b[32m━━━━━━━━━━━━━━━━━━━━\u001b[0m\u001b[37m\u001b[0m \u001b[1m0s\u001b[0m 489ms/step - loss: 0.0019 - mae: 0.0295 - mse: 0.0083"
     ]
    },
    {
     "name": "stderr",
     "output_type": "stream",
     "text": [
      "2024-08-26 06:06:21.305906: W tensorflow/core/kernels/data/prefetch_autotuner.cc:52] Prefetch autotuner tried to allocate 60212224 bytes after encountering the first element of size 60212224 bytes.This already causes the autotune ram budget to be exceeded. To stay within the ram budget, either increase the ram budget or reduce element size\n"
     ]
    },
    {
     "name": "stdout",
     "output_type": "stream",
     "text": [
      "\n",
      "Epoch 15: val_loss improved from 0.00148 to 0.00107, saving model to best_model_2.keras\n",
      "\u001b[1m73/73\u001b[0m \u001b[32m━━━━━━━━━━━━━━━━━━━━\u001b[0m\u001b[37m\u001b[0m \u001b[1m60s\u001b[0m 776ms/step - loss: 0.0019 - mae: 0.0295 - mse: 0.0083 - val_loss: 0.0011 - val_mae: 0.0252 - val_mse: 0.0027 - learning_rate: 9.9205e-04\n",
      "Epoch 16/80\n",
      "\u001b[1m73/73\u001b[0m \u001b[32m━━━━━━━━━━━━━━━━━━━━\u001b[0m\u001b[37m\u001b[0m \u001b[1m0s\u001b[0m 482ms/step - loss: 0.0018 - mae: 0.0289 - mse: 0.0074\n",
      "Epoch 16: val_loss did not improve from 0.00107\n",
      "\u001b[1m73/73\u001b[0m \u001b[32m━━━━━━━━━━━━━━━━━━━━\u001b[0m\u001b[37m\u001b[0m \u001b[1m46s\u001b[0m 620ms/step - loss: 0.0018 - mae: 0.0289 - mse: 0.0074 - val_loss: 0.0149 - val_mae: 0.0967 - val_mse: 0.6264 - learning_rate: 9.8759e-04\n",
      "Epoch 17/80\n",
      "\u001b[1m73/73\u001b[0m \u001b[32m━━━━━━━━━━━━━━━━━━━━\u001b[0m\u001b[37m\u001b[0m \u001b[1m0s\u001b[0m 483ms/step - loss: 0.0018 - mae: 0.0282 - mse: 0.0075\n",
      "Epoch 17: val_loss did not improve from 0.00107\n",
      "\u001b[1m73/73\u001b[0m \u001b[32m━━━━━━━━━━━━━━━━━━━━\u001b[0m\u001b[37m\u001b[0m \u001b[1m50s\u001b[0m 674ms/step - loss: 0.0018 - mae: 0.0283 - mse: 0.0075 - val_loss: 0.0013 - val_mae: 0.0288 - val_mse: 0.0032 - learning_rate: 9.8216e-04\n",
      "Epoch 18/80\n",
      "\u001b[1m73/73\u001b[0m \u001b[32m━━━━━━━━━━━━━━━━━━━━\u001b[0m\u001b[37m\u001b[0m \u001b[1m0s\u001b[0m 467ms/step - loss: 0.0015 - mae: 0.0268 - mse: 0.0047\n",
      "Epoch 18: val_loss did not improve from 0.00107\n",
      "\u001b[1m73/73\u001b[0m \u001b[32m━━━━━━━━━━━━━━━━━━━━\u001b[0m\u001b[37m\u001b[0m \u001b[1m43s\u001b[0m 586ms/step - loss: 0.0015 - mae: 0.0268 - mse: 0.0047 - val_loss: 0.0012 - val_mae: 0.0248 - val_mse: 0.0029 - learning_rate: 9.7577e-04\n",
      "Epoch 19/80\n",
      "\u001b[1m73/73\u001b[0m \u001b[32m━━━━━━━━━━━━━━━━━━━━\u001b[0m\u001b[37m\u001b[0m \u001b[1m0s\u001b[0m 464ms/step - loss: 0.0012 - mae: 0.0241 - mse: 0.0037\n",
      "Epoch 19: val_loss did not improve from 0.00107\n",
      "\u001b[1m73/73\u001b[0m \u001b[32m━━━━━━━━━━━━━━━━━━━━\u001b[0m\u001b[37m\u001b[0m \u001b[1m55s\u001b[0m 750ms/step - loss: 0.0012 - mae: 0.0241 - mse: 0.0037 - val_loss: 0.0099 - val_mae: 0.0724 - val_mse: 0.3371 - learning_rate: 9.6844e-04\n",
      "Epoch 20/80\n",
      "\u001b[1m73/73\u001b[0m \u001b[32m━━━━━━━━━━━━━━━━━━━━\u001b[0m\u001b[37m\u001b[0m \u001b[1m0s\u001b[0m 467ms/step - loss: 0.0011 - mae: 0.0228 - mse: 0.0030"
     ]
    },
    {
     "name": "stderr",
     "output_type": "stream",
     "text": [
      "2024-08-26 06:10:32.776310: W tensorflow/core/kernels/data/prefetch_autotuner.cc:52] Prefetch autotuner tried to allocate 60212224 bytes after encountering the first element of size 60212224 bytes.This already causes the autotune ram budget to be exceeded. To stay within the ram budget, either increase the ram budget or reduce element size\n"
     ]
    },
    {
     "name": "stdout",
     "output_type": "stream",
     "text": [
      "\n",
      "Epoch 20: val_loss did not improve from 0.00107\n",
      "\u001b[1m73/73\u001b[0m \u001b[32m━━━━━━━━━━━━━━━━━━━━\u001b[0m\u001b[37m\u001b[0m \u001b[1m43s\u001b[0m 586ms/step - loss: 0.0011 - mae: 0.0228 - mse: 0.0030 - val_loss: 0.0011 - val_mae: 0.0224 - val_mse: 0.0028 - learning_rate: 9.6017e-04\n",
      "Epoch 21/80\n",
      "\u001b[1m73/73\u001b[0m \u001b[32m━━━━━━━━━━━━━━━━━━━━\u001b[0m\u001b[37m\u001b[0m \u001b[1m0s\u001b[0m 463ms/step - loss: 9.4911e-04 - mae: 0.0218 - mse: 0.0024\n",
      "Epoch 21: val_loss improved from 0.00107 to 0.00092, saving model to best_model_2.keras\n",
      "\u001b[1m73/73\u001b[0m \u001b[32m━━━━━━━━━━━━━━━━━━━━\u001b[0m\u001b[37m\u001b[0m \u001b[1m57s\u001b[0m 775ms/step - loss: 9.4908e-04 - mae: 0.0218 - mse: 0.0024 - val_loss: 9.1627e-04 - val_mae: 0.0212 - val_mse: 0.0024 - learning_rate: 9.5098e-04\n",
      "Epoch 22/80\n",
      "\u001b[1m73/73\u001b[0m \u001b[32m━━━━━━━━━━━━━━━━━━━━\u001b[0m\u001b[37m\u001b[0m \u001b[1m0s\u001b[0m 478ms/step - loss: 0.0012 - mae: 0.0244 - mse: 0.0032\n",
      "Epoch 22: val_loss did not improve from 0.00092\n",
      "\u001b[1m73/73\u001b[0m \u001b[32m━━━━━━━━━━━━━━━━━━━━\u001b[0m\u001b[37m\u001b[0m \u001b[1m48s\u001b[0m 614ms/step - loss: 0.0012 - mae: 0.0244 - mse: 0.0032 - val_loss: 0.0017 - val_mae: 0.0361 - val_mse: 0.0037 - learning_rate: 9.4089e-04\n",
      "Epoch 23/80\n",
      "\u001b[1m73/73\u001b[0m \u001b[32m━━━━━━━━━━━━━━━━━━━━\u001b[0m\u001b[37m\u001b[0m \u001b[1m0s\u001b[0m 478ms/step - loss: 7.3555e-04 - mae: 0.0209 - mse: 0.0017"
     ]
    },
    {
     "name": "stderr",
     "output_type": "stream",
     "text": [
      "2024-08-26 06:13:01.597606: W tensorflow/core/kernels/data/prefetch_autotuner.cc:52] Prefetch autotuner tried to allocate 60212224 bytes after encountering the first element of size 60212224 bytes.This already causes the autotune ram budget to be exceeded. To stay within the ram budget, either increase the ram budget or reduce element size\n"
     ]
    },
    {
     "name": "stdout",
     "output_type": "stream",
     "text": [
      "\n",
      "Epoch 23: val_loss did not improve from 0.00092\n",
      "\u001b[1m73/73\u001b[0m \u001b[32m━━━━━━━━━━━━━━━━━━━━\u001b[0m\u001b[37m\u001b[0m \u001b[1m45s\u001b[0m 610ms/step - loss: 7.3491e-04 - mae: 0.0209 - mse: 0.0017 - val_loss: 0.0010 - val_mae: 0.0207 - val_mse: 0.0026 - learning_rate: 9.2993e-04\n",
      "Epoch 24/80\n",
      "\u001b[1m72/73\u001b[0m \u001b[32m━━━━━━━━━━━━━━━━━━━\u001b[0m\u001b[37m━\u001b[0m \u001b[1m0s\u001b[0m 481ms/step - loss: 6.3088e-04 - mae: 0.0189 - mse: 0.0015\n",
      "Epoch 24: val_loss did not improve from 0.00092\n",
      "\u001b[1m73/73\u001b[0m \u001b[32m━━━━━━━━━━━━━━━━━━━━\u001b[0m\u001b[37m\u001b[0m \u001b[1m44s\u001b[0m 599ms/step - loss: 6.3161e-04 - mae: 0.0189 - mse: 0.0015 - val_loss: 0.0011 - val_mae: 0.0217 - val_mse: 0.0027 - learning_rate: 9.1811e-04\n",
      "Epoch 25/80\n",
      "\u001b[1m73/73\u001b[0m \u001b[32m━━━━━━━━━━━━━━━━━━━━\u001b[0m\u001b[37m\u001b[0m \u001b[1m0s\u001b[0m 480ms/step - loss: 6.1305e-04 - mae: 0.0190 - mse: 0.0014"
     ]
    },
    {
     "name": "stderr",
     "output_type": "stream",
     "text": [
      "2024-08-26 06:14:30.857950: W tensorflow/core/kernels/data/prefetch_autotuner.cc:52] Prefetch autotuner tried to allocate 60212224 bytes after encountering the first element of size 60212224 bytes.This already causes the autotune ram budget to be exceeded. To stay within the ram budget, either increase the ram budget or reduce element size\n"
     ]
    },
    {
     "name": "stdout",
     "output_type": "stream",
     "text": [
      "\n",
      "Epoch 25: val_loss improved from 0.00092 to 0.00074, saving model to best_model_2.keras\n",
      "\u001b[1m73/73\u001b[0m \u001b[32m━━━━━━━━━━━━━━━━━━━━\u001b[0m\u001b[37m\u001b[0m \u001b[1m58s\u001b[0m 797ms/step - loss: 6.1308e-04 - mae: 0.0190 - mse: 0.0014 - val_loss: 7.4020e-04 - val_mae: 0.0171 - val_mse: 0.0020 - learning_rate: 9.0546e-04\n",
      "Epoch 26/80\n",
      "\u001b[1m73/73\u001b[0m \u001b[32m━━━━━━━━━━━━━━━━━━━━\u001b[0m\u001b[37m\u001b[0m \u001b[1m0s\u001b[0m 489ms/step - loss: 5.5808e-04 - mae: 0.0182 - mse: 0.0013\n",
      "Epoch 26: val_loss improved from 0.00074 to 0.00072, saving model to best_model_2.keras\n",
      "\u001b[1m73/73\u001b[0m \u001b[32m━━━━━━━━━━━━━━━━━━━━\u001b[0m\u001b[37m\u001b[0m \u001b[1m69s\u001b[0m 911ms/step - loss: 5.5800e-04 - mae: 0.0182 - mse: 0.0013 - val_loss: 7.2292e-04 - val_mae: 0.0180 - val_mse: 0.0018 - learning_rate: 8.9201e-04\n",
      "Epoch 27/80\n",
      "\u001b[1m73/73\u001b[0m \u001b[32m━━━━━━━━━━━━━━━━━━━━\u001b[0m\u001b[37m\u001b[0m \u001b[1m0s\u001b[0m 484ms/step - loss: 5.8190e-04 - mae: 0.0182 - mse: 0.0013"
     ]
    },
    {
     "name": "stderr",
     "output_type": "stream",
     "text": [
      "2024-08-26 06:16:45.904812: W tensorflow/core/kernels/data/prefetch_autotuner.cc:52] Prefetch autotuner tried to allocate 60212224 bytes after encountering the first element of size 60212224 bytes.This already causes the autotune ram budget to be exceeded. To stay within the ram budget, either increase the ram budget or reduce element size\n"
     ]
    },
    {
     "name": "stdout",
     "output_type": "stream",
     "text": [
      "\n",
      "Epoch 27: val_loss improved from 0.00072 to 0.00069, saving model to best_model_2.keras\n",
      "\u001b[1m73/73\u001b[0m \u001b[32m━━━━━━━━━━━━━━━━━━━━\u001b[0m\u001b[37m\u001b[0m \u001b[1m65s\u001b[0m 784ms/step - loss: 5.8175e-04 - mae: 0.0182 - mse: 0.0013 - val_loss: 6.9481e-04 - val_mae: 0.0193 - val_mse: 0.0018 - learning_rate: 8.7777e-04\n",
      "Epoch 28/80\n",
      "\u001b[1m73/73\u001b[0m \u001b[32m━━━━━━━━━━━━━━━━━━━━\u001b[0m\u001b[37m\u001b[0m \u001b[1m0s\u001b[0m 483ms/step - loss: 5.5056e-04 - mae: 0.0173 - mse: 0.0013\n",
      "Epoch 28: val_loss did not improve from 0.00069\n",
      "\u001b[1m73/73\u001b[0m \u001b[32m━━━━━━━━━━━━━━━━━━━━\u001b[0m\u001b[37m\u001b[0m \u001b[1m46s\u001b[0m 620ms/step - loss: 5.4997e-04 - mae: 0.0173 - mse: 0.0013 - val_loss: 0.0011 - val_mae: 0.0195 - val_mse: 0.0031 - learning_rate: 8.6278e-04\n",
      "Epoch 29/80\n",
      "\u001b[1m71/73\u001b[0m \u001b[32m━━━━━━━━━━━━━━━━━━━\u001b[0m\u001b[37m━\u001b[0m \u001b[1m0s\u001b[0m 496ms/step - loss: 4.7130e-04 - mae: 0.0168 - mse: 0.0011"
     ]
    },
    {
     "name": "stderr",
     "output_type": "stream",
     "text": [
      "2024-08-26 06:18:29.290144: W tensorflow/core/kernels/data/prefetch_autotuner.cc:52] Prefetch autotuner tried to allocate 60212224 bytes after encountering the first element of size 60212224 bytes.This already causes the autotune ram budget to be exceeded. To stay within the ram budget, either increase the ram budget or reduce element size\n"
     ]
    },
    {
     "name": "stdout",
     "output_type": "stream",
     "text": [
      "\n",
      "Epoch 29: val_loss did not improve from 0.00069\n",
      "\u001b[1m73/73\u001b[0m \u001b[32m━━━━━━━━━━━━━━━━━━━━\u001b[0m\u001b[37m\u001b[0m \u001b[1m46s\u001b[0m 617ms/step - loss: 4.7394e-04 - mae: 0.0168 - mse: 0.0011 - val_loss: 0.0011 - val_mae: 0.0206 - val_mse: 0.0029 - learning_rate: 8.4708e-04\n",
      "Epoch 30/80\n",
      "\u001b[1m73/73\u001b[0m \u001b[32m━━━━━━━━━━━━━━━━━━━━\u001b[0m\u001b[37m\u001b[0m \u001b[1m0s\u001b[0m 483ms/step - loss: 4.6976e-04 - mae: 0.0162 - mse: 0.0011"
     ]
    },
    {
     "name": "stderr",
     "output_type": "stream",
     "text": [
      "2024-08-26 06:19:14.855387: W tensorflow/core/kernels/data/prefetch_autotuner.cc:52] Prefetch autotuner tried to allocate 60212224 bytes after encountering the first element of size 60212224 bytes.This already causes the autotune ram budget to be exceeded. To stay within the ram budget, either increase the ram budget or reduce element size\n"
     ]
    },
    {
     "name": "stdout",
     "output_type": "stream",
     "text": [
      "\n",
      "Epoch 30: val_loss improved from 0.00069 to 0.00065, saving model to best_model_2.keras\n",
      "\u001b[1m73/73\u001b[0m \u001b[32m━━━━━━━━━━━━━━━━━━━━\u001b[0m\u001b[37m\u001b[0m \u001b[1m55s\u001b[0m 743ms/step - loss: 4.7008e-04 - mae: 0.0162 - mse: 0.0011 - val_loss: 6.5233e-04 - val_mae: 0.0172 - val_mse: 0.0017 - learning_rate: 8.3068e-04\n",
      "Epoch 31/80\n",
      "\u001b[1m73/73\u001b[0m \u001b[32m━━━━━━━━━━━━━━━━━━━━\u001b[0m\u001b[37m\u001b[0m \u001b[1m0s\u001b[0m 485ms/step - loss: 5.2874e-04 - mae: 0.0172 - mse: 0.0012\n",
      "Epoch 31: val_loss did not improve from 0.00065\n",
      "\u001b[1m73/73\u001b[0m \u001b[32m━━━━━━━━━━━━━━━━━━━━\u001b[0m\u001b[37m\u001b[0m \u001b[1m46s\u001b[0m 617ms/step - loss: 5.2794e-04 - mae: 0.0172 - mse: 0.0012 - val_loss: 0.0011 - val_mae: 0.0213 - val_mse: 0.0029 - learning_rate: 8.1363e-04\n",
      "Epoch 32/80\n",
      "\u001b[1m73/73\u001b[0m \u001b[32m━━━━━━━━━━━━━━━━━━━━\u001b[0m\u001b[37m\u001b[0m \u001b[1m0s\u001b[0m 493ms/step - loss: 4.5353e-04 - mae: 0.0162 - mse: 0.0010\n",
      "Epoch 32: val_loss did not improve from 0.00065\n",
      "\u001b[1m73/73\u001b[0m \u001b[32m━━━━━━━━━━━━━━━━━━━━\u001b[0m\u001b[37m\u001b[0m \u001b[1m47s\u001b[0m 635ms/step - loss: 4.5346e-04 - mae: 0.0162 - mse: 0.0010 - val_loss: 0.0012 - val_mae: 0.0240 - val_mse: 0.0030 - learning_rate: 7.9595e-04\n",
      "Epoch 33/80\n",
      "\u001b[1m73/73\u001b[0m \u001b[32m━━━━━━━━━━━━━━━━━━━━\u001b[0m\u001b[37m\u001b[0m \u001b[1m0s\u001b[0m 480ms/step - loss: 3.7405e-04 - mae: 0.0155 - mse: 8.2884e-04\n",
      "Epoch 33: val_loss did not improve from 0.00065\n",
      "\u001b[1m73/73\u001b[0m \u001b[32m━━━━━━━━━━━━━━━━━━━━\u001b[0m\u001b[37m\u001b[0m \u001b[1m45s\u001b[0m 616ms/step - loss: 3.7467e-04 - mae: 0.0155 - mse: 8.3047e-04 - val_loss: 9.6831e-04 - val_mae: 0.0187 - val_mse: 0.0024 - learning_rate: 7.7769e-04\n",
      "Epoch 34/80\n",
      "\u001b[1m73/73\u001b[0m \u001b[32m━━━━━━━━━━━━━━━━━━━━\u001b[0m\u001b[37m\u001b[0m \u001b[1m0s\u001b[0m 485ms/step - loss: 4.0000e-04 - mae: 0.0152 - mse: 9.0068e-04"
     ]
    },
    {
     "name": "stderr",
     "output_type": "stream",
     "text": [
      "2024-08-26 06:22:26.711194: W tensorflow/core/kernels/data/prefetch_autotuner.cc:52] Prefetch autotuner tried to allocate 60212224 bytes after encountering the first element of size 60212224 bytes.This already causes the autotune ram budget to be exceeded. To stay within the ram budget, either increase the ram budget or reduce element size\n"
     ]
    },
    {
     "name": "stdout",
     "output_type": "stream",
     "text": [
      "\n",
      "Epoch 34: val_loss improved from 0.00065 to 0.00064, saving model to best_model_2.keras\n",
      "\u001b[1m73/73\u001b[0m \u001b[32m━━━━━━━━━━━━━━━━━━━━\u001b[0m\u001b[37m\u001b[0m \u001b[1m56s\u001b[0m 765ms/step - loss: 4.0044e-04 - mae: 0.0152 - mse: 9.0176e-04 - val_loss: 6.4202e-04 - val_mae: 0.0159 - val_mse: 0.0016 - learning_rate: 7.5889e-04\n",
      "Epoch 35/80\n",
      "\u001b[1m73/73\u001b[0m \u001b[32m━━━━━━━━━━━━━━━━━━━━\u001b[0m\u001b[37m\u001b[0m \u001b[1m0s\u001b[0m 488ms/step - loss: 3.7012e-04 - mae: 0.0153 - mse: 8.2237e-04\n",
      "Epoch 35: val_loss did not improve from 0.00064\n",
      "\u001b[1m73/73\u001b[0m \u001b[32m━━━━━━━━━━━━━━━━━━━━\u001b[0m\u001b[37m\u001b[0m \u001b[1m48s\u001b[0m 648ms/step - loss: 3.7020e-04 - mae: 0.0152 - mse: 8.2257e-04 - val_loss: 6.7829e-04 - val_mae: 0.0162 - val_mse: 0.0017 - learning_rate: 7.3957e-04\n",
      "Epoch 36/80\n",
      "\u001b[1m73/73\u001b[0m \u001b[32m━━━━━━━━━━━━━━━━━━━━\u001b[0m\u001b[37m\u001b[0m \u001b[1m0s\u001b[0m 482ms/step - loss: 3.3972e-04 - mae: 0.0148 - mse: 7.3970e-04\n",
      "Epoch 36: val_loss did not improve from 0.00064\n",
      "\u001b[1m73/73\u001b[0m \u001b[32m━━━━━━━━━━━━━━━━━━━━\u001b[0m\u001b[37m\u001b[0m \u001b[1m45s\u001b[0m 615ms/step - loss: 3.3981e-04 - mae: 0.0148 - mse: 7.3999e-04 - val_loss: 6.9830e-04 - val_mae: 0.0180 - val_mse: 0.0017 - learning_rate: 7.1977e-04\n",
      "Epoch 37/80\n",
      "\u001b[1m73/73\u001b[0m \u001b[32m━━━━━━━━━━━━━━━━━━━━\u001b[0m\u001b[37m\u001b[0m \u001b[1m0s\u001b[0m 498ms/step - loss: 3.1341e-04 - mae: 0.0143 - mse: 6.8489e-04\n",
      "Epoch 37: val_loss did not improve from 0.00064\n",
      "\u001b[1m73/73\u001b[0m \u001b[32m━━━━━━━━━━━━━━━━━━━━\u001b[0m\u001b[37m\u001b[0m \u001b[1m47s\u001b[0m 633ms/step - loss: 3.1343e-04 - mae: 0.0143 - mse: 6.8486e-04 - val_loss: 6.9991e-04 - val_mae: 0.0170 - val_mse: 0.0019 - learning_rate: 6.9955e-04\n",
      "Epoch 38/80\n",
      "\u001b[1m73/73\u001b[0m \u001b[32m━━━━━━━━━━━━━━━━━━━━\u001b[0m\u001b[37m\u001b[0m \u001b[1m0s\u001b[0m 488ms/step - loss: 2.5717e-04 - mae: 0.0137 - mse: 5.6673e-04\n",
      "Epoch 38: val_loss did not improve from 0.00064\n",
      "\u001b[1m73/73\u001b[0m \u001b[32m━━━━━━━━━━━━━━━━━━━━\u001b[0m\u001b[37m\u001b[0m \u001b[1m49s\u001b[0m 669ms/step - loss: 2.5717e-04 - mae: 0.0137 - mse: 5.6679e-04 - val_loss: 7.4872e-04 - val_mae: 0.0185 - val_mse: 0.0019 - learning_rate: 6.7893e-04\n",
      "Epoch 39/80\n",
      "\u001b[1m73/73\u001b[0m \u001b[32m━━━━━━━━━━━━━━━━━━━━\u001b[0m\u001b[37m\u001b[0m \u001b[1m0s\u001b[0m 482ms/step - loss: 1.9478e-04 - mae: 0.0129 - mse: 3.9856e-04\n",
      "Epoch 39: val_loss did not improve from 0.00064\n",
      "\u001b[1m73/73\u001b[0m \u001b[32m━━━━━━━━━━━━━━━━━━━━\u001b[0m\u001b[37m\u001b[0m \u001b[1m46s\u001b[0m 627ms/step - loss: 1.9512e-04 - mae: 0.0129 - mse: 3.9949e-04 - val_loss: 7.0962e-04 - val_mae: 0.0161 - val_mse: 0.0019 - learning_rate: 6.5796e-04\n",
      "Epoch 40/80\n",
      "\u001b[1m73/73\u001b[0m \u001b[32m━━━━━━━━━━━━━━━━━━━━\u001b[0m\u001b[37m\u001b[0m \u001b[1m0s\u001b[0m 495ms/step - loss: 2.0410e-04 - mae: 0.0126 - mse: 4.4147e-04\n",
      "Epoch 40: val_loss did not improve from 0.00064\n",
      "\u001b[1m73/73\u001b[0m \u001b[32m━━━━━━━━━━━━━━━━━━━━\u001b[0m\u001b[37m\u001b[0m \u001b[1m46s\u001b[0m 622ms/step - loss: 2.0434e-04 - mae: 0.0126 - mse: 4.4219e-04 - val_loss: 6.5726e-04 - val_mae: 0.0185 - val_mse: 0.0017 - learning_rate: 6.3669e-04\n",
      "Epoch 41/80\n",
      "\u001b[1m73/73\u001b[0m \u001b[32m━━━━━━━━━━━━━━━━━━━━\u001b[0m\u001b[37m\u001b[0m \u001b[1m0s\u001b[0m 489ms/step - loss: 1.7640e-04 - mae: 0.0122 - mse: 3.7456e-04"
     ]
    },
    {
     "name": "stderr",
     "output_type": "stream",
     "text": [
      "2024-08-26 06:28:04.316935: W tensorflow/core/kernels/data/prefetch_autotuner.cc:52] Prefetch autotuner tried to allocate 60212224 bytes after encountering the first element of size 60212224 bytes.This already causes the autotune ram budget to be exceeded. To stay within the ram budget, either increase the ram budget or reduce element size\n"
     ]
    },
    {
     "name": "stdout",
     "output_type": "stream",
     "text": [
      "\n",
      "Epoch 41: val_loss did not improve from 0.00064\n",
      "\u001b[1m73/73\u001b[0m \u001b[32m━━━━━━━━━━━━━━━━━━━━\u001b[0m\u001b[37m\u001b[0m \u001b[1m45s\u001b[0m 615ms/step - loss: 1.7663e-04 - mae: 0.0122 - mse: 3.7514e-04 - val_loss: 6.6313e-04 - val_mae: 0.0158 - val_mse: 0.0017 - learning_rate: 6.1515e-04\n",
      "Epoch 42/80\n",
      "\u001b[1m73/73\u001b[0m \u001b[32m━━━━━━━━━━━━━━━━━━━━\u001b[0m\u001b[37m\u001b[0m \u001b[1m0s\u001b[0m 481ms/step - loss: 1.5056e-04 - mae: 0.0121 - mse: 3.1254e-04\n",
      "Epoch 42: val_loss improved from 0.00064 to 0.00059, saving model to best_model_2.keras\n",
      "\u001b[1m73/73\u001b[0m \u001b[32m━━━━━━━━━━━━━━━━━━━━\u001b[0m\u001b[37m\u001b[0m \u001b[1m56s\u001b[0m 765ms/step - loss: 1.5072e-04 - mae: 0.0121 - mse: 3.1299e-04 - val_loss: 5.9059e-04 - val_mae: 0.0144 - val_mse: 0.0015 - learning_rate: 5.9339e-04\n",
      "Epoch 43/80\n",
      "\u001b[1m73/73\u001b[0m \u001b[32m━━━━━━━━━━━━━━━━━━━━\u001b[0m\u001b[37m\u001b[0m \u001b[1m0s\u001b[0m 486ms/step - loss: 1.5833e-04 - mae: 0.0115 - mse: 3.3297e-04\n",
      "Epoch 43: val_loss did not improve from 0.00059\n",
      "\u001b[1m73/73\u001b[0m \u001b[32m━━━━━━━━━━━━━━━━━━━━\u001b[0m\u001b[37m\u001b[0m \u001b[1m46s\u001b[0m 620ms/step - loss: 1.5849e-04 - mae: 0.0115 - mse: 3.3337e-04 - val_loss: 0.0012 - val_mae: 0.0213 - val_mse: 0.0030 - learning_rate: 5.7145e-04\n",
      "Epoch 44/80\n",
      "\u001b[1m73/73\u001b[0m \u001b[32m━━━━━━━━━━━━━━━━━━━━\u001b[0m\u001b[37m\u001b[0m \u001b[1m0s\u001b[0m 483ms/step - loss: 1.4578e-04 - mae: 0.0114 - mse: 3.0596e-04"
     ]
    },
    {
     "name": "stderr",
     "output_type": "stream",
     "text": [
      "2024-08-26 06:30:31.114370: W tensorflow/core/kernels/data/prefetch_autotuner.cc:52] Prefetch autotuner tried to allocate 60212224 bytes after encountering the first element of size 60212224 bytes.This already causes the autotune ram budget to be exceeded. To stay within the ram budget, either increase the ram budget or reduce element size\n"
     ]
    },
    {
     "name": "stdout",
     "output_type": "stream",
     "text": [
      "\n",
      "Epoch 44: val_loss did not improve from 0.00059\n",
      "\u001b[1m73/73\u001b[0m \u001b[32m━━━━━━━━━━━━━━━━━━━━\u001b[0m\u001b[37m\u001b[0m \u001b[1m44s\u001b[0m 603ms/step - loss: 1.4599e-04 - mae: 0.0114 - mse: 3.0645e-04 - val_loss: 6.6093e-04 - val_mae: 0.0164 - val_mse: 0.0017 - learning_rate: 5.4937e-04\n",
      "Epoch 45/80\n",
      "\u001b[1m73/73\u001b[0m \u001b[32m━━━━━━━━━━━━━━━━━━━━\u001b[0m\u001b[37m\u001b[0m \u001b[1m0s\u001b[0m 483ms/step - loss: 1.5288e-04 - mae: 0.0119 - mse: 3.1516e-04"
     ]
    },
    {
     "name": "stderr",
     "output_type": "stream",
     "text": [
      "2024-08-26 06:31:15.503067: W tensorflow/core/kernels/data/prefetch_autotuner.cc:52] Prefetch autotuner tried to allocate 60212224 bytes after encountering the first element of size 60212224 bytes.This already causes the autotune ram budget to be exceeded. To stay within the ram budget, either increase the ram budget or reduce element size\n"
     ]
    },
    {
     "name": "stdout",
     "output_type": "stream",
     "text": [
      "\n",
      "Epoch 45: val_loss improved from 0.00059 to 0.00056, saving model to best_model_2.keras\n",
      "\u001b[1m73/73\u001b[0m \u001b[32m━━━━━━━━━━━━━━━━━━━━\u001b[0m\u001b[37m\u001b[0m \u001b[1m56s\u001b[0m 767ms/step - loss: 1.5302e-04 - mae: 0.0119 - mse: 3.1559e-04 - val_loss: 5.5846e-04 - val_mae: 0.0131 - val_mse: 0.0014 - learning_rate: 5.2721e-04\n",
      "Epoch 46/80\n",
      "\u001b[1m73/73\u001b[0m \u001b[32m━━━━━━━━━━━━━━━━━━━━\u001b[0m\u001b[37m\u001b[0m \u001b[1m0s\u001b[0m 489ms/step - loss: 1.3778e-04 - mae: 0.0112 - mse: 2.8924e-04\n",
      "Epoch 46: val_loss did not improve from 0.00056\n",
      "\u001b[1m73/73\u001b[0m \u001b[32m━━━━━━━━━━━━━━━━━━━━\u001b[0m\u001b[37m\u001b[0m \u001b[1m50s\u001b[0m 678ms/step - loss: 1.3781e-04 - mae: 0.0112 - mse: 2.8928e-04 - val_loss: 8.4344e-04 - val_mae: 0.0155 - val_mse: 0.0022 - learning_rate: 5.0500e-04\n",
      "Epoch 47/80\n",
      "\u001b[1m73/73\u001b[0m \u001b[32m━━━━━━━━━━━━━━━━━━━━\u001b[0m\u001b[37m\u001b[0m \u001b[1m0s\u001b[0m 482ms/step - loss: 1.4037e-04 - mae: 0.0110 - mse: 2.9758e-04"
     ]
    },
    {
     "name": "stderr",
     "output_type": "stream",
     "text": [
      "2024-08-26 06:33:04.974744: W tensorflow/core/kernels/data/prefetch_autotuner.cc:52] Prefetch autotuner tried to allocate 60212224 bytes after encountering the first element of size 60212224 bytes.This already causes the autotune ram budget to be exceeded. To stay within the ram budget, either increase the ram budget or reduce element size\n"
     ]
    },
    {
     "name": "stdout",
     "output_type": "stream",
     "text": [
      "\n",
      "Epoch 47: val_loss did not improve from 0.00056\n",
      "\u001b[1m73/73\u001b[0m \u001b[32m━━━━━━━━━━━━━━━━━━━━\u001b[0m\u001b[37m\u001b[0m \u001b[1m45s\u001b[0m 604ms/step - loss: 1.4023e-04 - mae: 0.0110 - mse: 2.9725e-04 - val_loss: 5.7851e-04 - val_mae: 0.0125 - val_mse: 0.0015 - learning_rate: 4.8279e-04\n",
      "Epoch 48/80\n",
      "\u001b[1m73/73\u001b[0m \u001b[32m━━━━━━━━━━━━━━━━━━━━\u001b[0m\u001b[37m\u001b[0m \u001b[1m0s\u001b[0m 485ms/step - loss: 1.1652e-04 - mae: 0.0108 - mse: 2.3837e-04"
     ]
    },
    {
     "name": "stderr",
     "output_type": "stream",
     "text": [
      "2024-08-26 06:33:49.518673: W tensorflow/core/kernels/data/prefetch_autotuner.cc:52] Prefetch autotuner tried to allocate 60212224 bytes after encountering the first element of size 60212224 bytes.This already causes the autotune ram budget to be exceeded. To stay within the ram budget, either increase the ram budget or reduce element size\n"
     ]
    },
    {
     "name": "stdout",
     "output_type": "stream",
     "text": [
      "\n",
      "Epoch 48: val_loss did not improve from 0.00056\n",
      "\u001b[1m73/73\u001b[0m \u001b[32m━━━━━━━━━━━━━━━━━━━━\u001b[0m\u001b[37m\u001b[0m \u001b[1m45s\u001b[0m 616ms/step - loss: 1.1658e-04 - mae: 0.0108 - mse: 2.3857e-04 - val_loss: 5.8615e-04 - val_mae: 0.0128 - val_mse: 0.0016 - learning_rate: 4.6063e-04\n",
      "Epoch 49/80\n",
      "\u001b[1m73/73\u001b[0m \u001b[32m━━━━━━━━━━━━━━━━━━━━\u001b[0m\u001b[37m\u001b[0m \u001b[1m0s\u001b[0m 484ms/step - loss: 1.2777e-04 - mae: 0.0103 - mse: 2.8354e-04"
     ]
    },
    {
     "name": "stderr",
     "output_type": "stream",
     "text": [
      "2024-08-26 06:34:34.729361: W tensorflow/core/kernels/data/prefetch_autotuner.cc:52] Prefetch autotuner tried to allocate 60212224 bytes after encountering the first element of size 60212224 bytes.This already causes the autotune ram budget to be exceeded. To stay within the ram budget, either increase the ram budget or reduce element size\n"
     ]
    },
    {
     "name": "stdout",
     "output_type": "stream",
     "text": [
      "\n",
      "Epoch 49: val_loss improved from 0.00056 to 0.00055, saving model to best_model_2.keras\n",
      "\u001b[1m73/73\u001b[0m \u001b[32m━━━━━━━━━━━━━━━━━━━━\u001b[0m\u001b[37m\u001b[0m \u001b[1m57s\u001b[0m 778ms/step - loss: 1.2754e-04 - mae: 0.0103 - mse: 2.8286e-04 - val_loss: 5.5203e-04 - val_mae: 0.0119 - val_mse: 0.0014 - learning_rate: 4.3855e-04\n",
      "Epoch 50/80\n",
      "\u001b[1m73/73\u001b[0m \u001b[32m━━━━━━━━━━━━━━━━━━━━\u001b[0m\u001b[37m\u001b[0m \u001b[1m0s\u001b[0m 469ms/step - loss: 1.0532e-04 - mae: 0.0104 - mse: 2.1391e-04\n",
      "Epoch 50: val_loss did not improve from 0.00055\n",
      "\u001b[1m73/73\u001b[0m \u001b[32m━━━━━━━━━━━━━━━━━━━━\u001b[0m\u001b[37m\u001b[0m \u001b[1m47s\u001b[0m 596ms/step - loss: 1.0533e-04 - mae: 0.0104 - mse: 2.1397e-04 - val_loss: 6.1498e-04 - val_mae: 0.0139 - val_mse: 0.0016 - learning_rate: 4.1661e-04\n",
      "Epoch 51/80\n",
      "\u001b[1m73/73\u001b[0m \u001b[32m━━━━━━━━━━━━━━━━━━━━\u001b[0m\u001b[37m\u001b[0m \u001b[1m0s\u001b[0m 469ms/step - loss: 9.4650e-05 - mae: 0.0102 - mse: 1.9050e-04\n",
      "Epoch 51: val_loss did not improve from 0.00055\n",
      "\u001b[1m73/73\u001b[0m \u001b[32m━━━━━━━━━━━━━━━━━━━━\u001b[0m\u001b[37m\u001b[0m \u001b[1m54s\u001b[0m 739ms/step - loss: 9.4656e-05 - mae: 0.0102 - mse: 1.9055e-04 - val_loss: 6.2291e-04 - val_mae: 0.0129 - val_mse: 0.0017 - learning_rate: 3.9485e-04\n",
      "Epoch 52/80\n",
      "\u001b[1m73/73\u001b[0m \u001b[32m━━━━━━━━━━━━━━━━━━━━\u001b[0m\u001b[37m\u001b[0m \u001b[1m0s\u001b[0m 468ms/step - loss: 8.6376e-05 - mae: 0.0095 - mse: 1.7665e-04\n",
      "Epoch 52: val_loss did not improve from 0.00055\n",
      "\u001b[1m73/73\u001b[0m \u001b[32m━━━━━━━━━━━━━━━━━━━━\u001b[0m\u001b[37m\u001b[0m \u001b[1m47s\u001b[0m 643ms/step - loss: 8.6397e-05 - mae: 0.0095 - mse: 1.7668e-04 - val_loss: 6.0495e-04 - val_mae: 0.0126 - val_mse: 0.0016 - learning_rate: 3.7331e-04\n",
      "Epoch 53/80\n",
      "\u001b[1m73/73\u001b[0m \u001b[32m━━━━━━━━━━━━━━━━━━━━\u001b[0m\u001b[37m\u001b[0m \u001b[1m0s\u001b[0m 466ms/step - loss: 8.5298e-05 - mae: 0.0095 - mse: 1.7233e-04"
     ]
    },
    {
     "name": "stderr",
     "output_type": "stream",
     "text": [
      "2024-08-26 06:37:58.493335: W tensorflow/core/kernels/data/prefetch_autotuner.cc:52] Prefetch autotuner tried to allocate 60212224 bytes after encountering the first element of size 60212224 bytes.This already causes the autotune ram budget to be exceeded. To stay within the ram budget, either increase the ram budget or reduce element size\n"
     ]
    },
    {
     "name": "stdout",
     "output_type": "stream",
     "text": [
      "\n",
      "Epoch 53: val_loss improved from 0.00055 to 0.00051, saving model to best_model_2.keras\n",
      "\u001b[1m73/73\u001b[0m \u001b[32m━━━━━━━━━━━━━━━━━━━━\u001b[0m\u001b[37m\u001b[0m \u001b[1m58s\u001b[0m 790ms/step - loss: 8.5314e-05 - mae: 0.0095 - mse: 1.7237e-04 - val_loss: 5.1300e-04 - val_mae: 0.0114 - val_mse: 0.0014 - learning_rate: 3.5204e-04\n",
      "Epoch 54/80\n",
      "\u001b[1m73/73\u001b[0m \u001b[32m━━━━━━━━━━━━━━━━━━━━\u001b[0m\u001b[37m\u001b[0m \u001b[1m0s\u001b[0m 471ms/step - loss: 7.5201e-05 - mae: 0.0092 - mse: 1.5048e-04\n",
      "Epoch 54: val_loss did not improve from 0.00051\n",
      "\u001b[1m73/73\u001b[0m \u001b[32m━━━━━━━━━━━━━━━━━━━━\u001b[0m\u001b[37m\u001b[0m \u001b[1m49s\u001b[0m 661ms/step - loss: 7.5252e-05 - mae: 0.0092 - mse: 1.5058e-04 - val_loss: 6.4774e-04 - val_mae: 0.0135 - val_mse: 0.0017 - learning_rate: 3.3107e-04\n",
      "Epoch 55/80\n",
      "\u001b[1m73/73\u001b[0m \u001b[32m━━━━━━━━━━━━━━━━━━━━\u001b[0m\u001b[37m\u001b[0m \u001b[1m0s\u001b[0m 482ms/step - loss: 7.5198e-05 - mae: 0.0093 - mse: 1.5040e-04"
     ]
    },
    {
     "name": "stderr",
     "output_type": "stream",
     "text": [
      "2024-08-26 06:39:47.668534: W tensorflow/core/kernels/data/prefetch_autotuner.cc:52] Prefetch autotuner tried to allocate 60212224 bytes after encountering the first element of size 60212224 bytes.This already causes the autotune ram budget to be exceeded. To stay within the ram budget, either increase the ram budget or reduce element size\n"
     ]
    },
    {
     "name": "stdout",
     "output_type": "stream",
     "text": [
      "\n",
      "Epoch 55: val_loss did not improve from 0.00051\n",
      "\u001b[1m73/73\u001b[0m \u001b[32m━━━━━━━━━━━━━━━━━━━━\u001b[0m\u001b[37m\u001b[0m \u001b[1m45s\u001b[0m 614ms/step - loss: 7.5221e-05 - mae: 0.0093 - mse: 1.5044e-04 - val_loss: 5.8899e-04 - val_mae: 0.0120 - val_mse: 0.0016 - learning_rate: 3.1045e-04\n",
      "Epoch 56/80\n",
      "\u001b[1m73/73\u001b[0m \u001b[32m━━━━━━━━━━━━━━━━━━━━\u001b[0m\u001b[37m\u001b[0m \u001b[1m0s\u001b[0m 471ms/step - loss: 7.4847e-05 - mae: 0.0091 - mse: 1.5081e-04\n",
      "Epoch 56: val_loss did not improve from 0.00051\n",
      "\u001b[1m73/73\u001b[0m \u001b[32m━━━━━━━━━━━━━━━━━━━━\u001b[0m\u001b[37m\u001b[0m \u001b[1m48s\u001b[0m 656ms/step - loss: 7.4912e-05 - mae: 0.0091 - mse: 1.5097e-04 - val_loss: 5.8111e-04 - val_mae: 0.0122 - val_mse: 0.0016 - learning_rate: 2.9023e-04\n",
      "Epoch 57/80\n",
      "\u001b[1m73/73\u001b[0m \u001b[32m━━━━━━━━━━━━━━━━━━━━\u001b[0m\u001b[37m\u001b[0m \u001b[1m0s\u001b[0m 482ms/step - loss: 6.9574e-05 - mae: 0.0089 - mse: 1.3916e-04\n",
      "Epoch 57: val_loss did not improve from 0.00051\n",
      "\u001b[1m73/73\u001b[0m \u001b[32m━━━━━━━━━━━━━━━━━━━━\u001b[0m\u001b[37m\u001b[0m \u001b[1m45s\u001b[0m 616ms/step - loss: 6.9589e-05 - mae: 0.0089 - mse: 1.3919e-04 - val_loss: 5.7993e-04 - val_mae: 0.0114 - val_mse: 0.0016 - learning_rate: 2.7044e-04\n",
      "Epoch 58/80\n",
      "\u001b[1m73/73\u001b[0m \u001b[32m━━━━━━━━━━━━━━━━━━━━\u001b[0m\u001b[37m\u001b[0m \u001b[1m0s\u001b[0m 472ms/step - loss: 6.5859e-05 - mae: 0.0086 - mse: 1.3172e-04"
     ]
    },
    {
     "name": "stderr",
     "output_type": "stream",
     "text": [
      "2024-08-26 06:42:05.832373: W tensorflow/core/kernels/data/prefetch_autotuner.cc:52] Prefetch autotuner tried to allocate 60212224 bytes after encountering the first element of size 60212224 bytes.This already causes the autotune ram budget to be exceeded. To stay within the ram budget, either increase the ram budget or reduce element size\n"
     ]
    },
    {
     "name": "stdout",
     "output_type": "stream",
     "text": [
      "\n",
      "Epoch 58: val_loss did not improve from 0.00051\n",
      "\u001b[1m73/73\u001b[0m \u001b[32m━━━━━━━━━━━━━━━━━━━━\u001b[0m\u001b[37m\u001b[0m \u001b[1m44s\u001b[0m 604ms/step - loss: 6.5888e-05 - mae: 0.0086 - mse: 1.3178e-04 - val_loss: 6.9159e-04 - val_mae: 0.0133 - val_mse: 0.0019 - learning_rate: 2.5111e-04\n",
      "Epoch 59/80\n",
      "\u001b[1m73/73\u001b[0m \u001b[32m━━━━━━━━━━━━━━━━━━━━\u001b[0m\u001b[37m\u001b[0m \u001b[1m0s\u001b[0m 484ms/step - loss: 6.5885e-05 - mae: 0.0086 - mse: 1.3184e-04"
     ]
    },
    {
     "name": "stderr",
     "output_type": "stream",
     "text": [
      "2024-08-26 06:42:51.247383: W tensorflow/core/kernels/data/prefetch_autotuner.cc:52] Prefetch autotuner tried to allocate 60212224 bytes after encountering the first element of size 60212224 bytes.This already causes the autotune ram budget to be exceeded. To stay within the ram budget, either increase the ram budget or reduce element size\n"
     ]
    },
    {
     "name": "stdout",
     "output_type": "stream",
     "text": [
      "\n",
      "Epoch 59: val_loss did not improve from 0.00051\n",
      "\u001b[1m73/73\u001b[0m \u001b[32m━━━━━━━━━━━━━━━━━━━━\u001b[0m\u001b[37m\u001b[0m \u001b[1m46s\u001b[0m 620ms/step - loss: 6.5927e-05 - mae: 0.0086 - mse: 1.3192e-04 - val_loss: 6.4814e-04 - val_mae: 0.0126 - val_mse: 0.0018 - learning_rate: 2.3231e-04\n",
      "Epoch 60/80\n",
      "\u001b[1m73/73\u001b[0m \u001b[32m━━━━━━━━━━━━━━━━━━━━\u001b[0m\u001b[37m\u001b[0m \u001b[1m0s\u001b[0m 486ms/step - loss: 6.4764e-05 - mae: 0.0087 - mse: 1.2953e-04"
     ]
    },
    {
     "name": "stderr",
     "output_type": "stream",
     "text": [
      "2024-08-26 06:43:37.109803: W tensorflow/core/kernels/data/prefetch_autotuner.cc:52] Prefetch autotuner tried to allocate 60212224 bytes after encountering the first element of size 60212224 bytes.This already causes the autotune ram budget to be exceeded. To stay within the ram budget, either increase the ram budget or reduce element size\n"
     ]
    },
    {
     "name": "stdout",
     "output_type": "stream",
     "text": [
      "\n",
      "Epoch 60: val_loss did not improve from 0.00051\n",
      "\u001b[1m73/73\u001b[0m \u001b[32m━━━━━━━━━━━━━━━━━━━━\u001b[0m\u001b[37m\u001b[0m \u001b[1m45s\u001b[0m 608ms/step - loss: 6.4769e-05 - mae: 0.0087 - mse: 1.2954e-04 - val_loss: 6.3801e-04 - val_mae: 0.0120 - val_mse: 0.0017 - learning_rate: 2.1405e-04\n",
      "Epoch 61/80\n",
      "\u001b[1m73/73\u001b[0m \u001b[32m━━━━━━━━━━━━━━━━━━━━\u001b[0m\u001b[37m\u001b[0m \u001b[1m0s\u001b[0m 489ms/step - loss: 6.4388e-05 - mae: 0.0086 - mse: 1.2878e-04\n",
      "Epoch 61: val_loss did not improve from 0.00051\n",
      "\u001b[1m73/73\u001b[0m \u001b[32m━━━━━━━━━━━━━━━━━━━━\u001b[0m\u001b[37m\u001b[0m \u001b[1m46s\u001b[0m 629ms/step - loss: 6.4395e-05 - mae: 0.0086 - mse: 1.2879e-04 - val_loss: 6.2788e-04 - val_mae: 0.0120 - val_mse: 0.0017 - learning_rate: 1.9637e-04\n",
      "Epoch 62/80\n",
      "\u001b[1m73/73\u001b[0m \u001b[32m━━━━━━━━━━━━━━━━━━━━\u001b[0m\u001b[37m\u001b[0m \u001b[1m0s\u001b[0m 488ms/step - loss: 6.2488e-05 - mae: 0.0085 - mse: 1.2503e-04"
     ]
    },
    {
     "name": "stderr",
     "output_type": "stream",
     "text": [
      "2024-08-26 06:45:08.550827: W tensorflow/core/kernels/data/prefetch_autotuner.cc:52] Prefetch autotuner tried to allocate 60212224 bytes after encountering the first element of size 60212224 bytes.This already causes the autotune ram budget to be exceeded. To stay within the ram budget, either increase the ram budget or reduce element size\n"
     ]
    },
    {
     "name": "stdout",
     "output_type": "stream",
     "text": [
      "\n",
      "Epoch 62: val_loss did not improve from 0.00051\n",
      "\u001b[1m73/73\u001b[0m \u001b[32m━━━━━━━━━━━━━━━━━━━━\u001b[0m\u001b[37m\u001b[0m \u001b[1m45s\u001b[0m 617ms/step - loss: 6.2506e-05 - mae: 0.0085 - mse: 1.2507e-04 - val_loss: 5.5049e-04 - val_mae: 0.0116 - val_mse: 0.0015 - learning_rate: 1.7932e-04\n",
      "Epoch 63/80\n",
      "\u001b[1m73/73\u001b[0m \u001b[32m━━━━━━━━━━━━━━━━━━━━\u001b[0m\u001b[37m\u001b[0m \u001b[1m0s\u001b[0m 488ms/step - loss: 6.2879e-05 - mae: 0.0084 - mse: 1.2691e-04"
     ]
    },
    {
     "name": "stderr",
     "output_type": "stream",
     "text": [
      "2024-08-26 06:45:53.872352: W tensorflow/core/kernels/data/prefetch_autotuner.cc:52] Prefetch autotuner tried to allocate 60212224 bytes after encountering the first element of size 60212224 bytes.This already causes the autotune ram budget to be exceeded. To stay within the ram budget, either increase the ram budget or reduce element size\n"
     ]
    },
    {
     "name": "stdout",
     "output_type": "stream",
     "text": [
      "\n",
      "Epoch 63: val_loss did not improve from 0.00051\n",
      "\u001b[1m73/73\u001b[0m \u001b[32m━━━━━━━━━━━━━━━━━━━━\u001b[0m\u001b[37m\u001b[0m \u001b[1m46s\u001b[0m 626ms/step - loss: 6.2915e-05 - mae: 0.0084 - mse: 1.2699e-04 - val_loss: 5.4832e-04 - val_mae: 0.0111 - val_mse: 0.0015 - learning_rate: 1.6292e-04\n",
      "Epoch 64/80\n",
      "\u001b[1m73/73\u001b[0m \u001b[32m━━━━━━━━━━━━━━━━━━━━\u001b[0m\u001b[37m\u001b[0m \u001b[1m0s\u001b[0m 481ms/step - loss: 5.8482e-05 - mae: 0.0083 - mse: 1.1696e-04\n",
      "Epoch 64: val_loss did not improve from 0.00051\n",
      "\u001b[1m73/73\u001b[0m \u001b[32m━━━━━━━━━━━━━━━━━━━━\u001b[0m\u001b[37m\u001b[0m \u001b[1m44s\u001b[0m 599ms/step - loss: 5.8483e-05 - mae: 0.0083 - mse: 1.1697e-04 - val_loss: 5.7182e-04 - val_mae: 0.0119 - val_mse: 0.0016 - learning_rate: 1.4722e-04\n",
      "Epoch 65/80\n",
      "\u001b[1m73/73\u001b[0m \u001b[32m━━━━━━━━━━━━━━━━━━━━\u001b[0m\u001b[37m\u001b[0m \u001b[1m0s\u001b[0m 484ms/step - loss: 5.8023e-05 - mae: 0.0083 - mse: 1.1605e-04\n",
      "Epoch 65: val_loss did not improve from 0.00051\n",
      "\u001b[1m73/73\u001b[0m \u001b[32m━━━━━━━━━━━━━━━━━━━━\u001b[0m\u001b[37m\u001b[0m \u001b[1m46s\u001b[0m 628ms/step - loss: 5.8030e-05 - mae: 0.0083 - mse: 1.1606e-04 - val_loss: 5.6279e-04 - val_mae: 0.0111 - val_mse: 0.0015 - learning_rate: 1.3223e-04\n",
      "Epoch 66/80\n",
      "\u001b[1m73/73\u001b[0m \u001b[32m━━━━━━━━━━━━━━━━━━━━\u001b[0m\u001b[37m\u001b[0m \u001b[1m0s\u001b[0m 489ms/step - loss: 5.6459e-05 - mae: 0.0081 - mse: 1.1292e-04"
     ]
    },
    {
     "name": "stderr",
     "output_type": "stream",
     "text": [
      "2024-08-26 06:48:10.533547: W tensorflow/core/kernels/data/prefetch_autotuner.cc:52] Prefetch autotuner tried to allocate 60212224 bytes after encountering the first element of size 60212224 bytes.This already causes the autotune ram budget to be exceeded. To stay within the ram budget, either increase the ram budget or reduce element size\n"
     ]
    },
    {
     "name": "stdout",
     "output_type": "stream",
     "text": [
      "\n",
      "Epoch 66: val_loss did not improve from 0.00051\n",
      "\u001b[1m73/73\u001b[0m \u001b[32m━━━━━━━━━━━━━━━━━━━━\u001b[0m\u001b[37m\u001b[0m \u001b[1m46s\u001b[0m 629ms/step - loss: 5.6456e-05 - mae: 0.0081 - mse: 1.1291e-04 - val_loss: 5.7288e-04 - val_mae: 0.0111 - val_mse: 0.0016 - learning_rate: 1.1799e-04\n",
      "Epoch 67/80\n",
      "\u001b[1m73/73\u001b[0m \u001b[32m━━━━━━━━━━━━━━━━━━━━\u001b[0m\u001b[37m\u001b[0m \u001b[1m0s\u001b[0m 478ms/step - loss: 5.7445e-05 - mae: 0.0082 - mse: 1.1489e-04"
     ]
    },
    {
     "name": "stderr",
     "output_type": "stream",
     "text": [
      "2024-08-26 06:48:55.960245: W tensorflow/core/kernels/data/prefetch_autotuner.cc:52] Prefetch autotuner tried to allocate 60212224 bytes after encountering the first element of size 60212224 bytes.This already causes the autotune ram budget to be exceeded. To stay within the ram budget, either increase the ram budget or reduce element size\n"
     ]
    },
    {
     "name": "stdout",
     "output_type": "stream",
     "text": [
      "\n",
      "Epoch 67: val_loss did not improve from 0.00051\n",
      "\u001b[1m73/73\u001b[0m \u001b[32m━━━━━━━━━━━━━━━━━━━━\u001b[0m\u001b[37m\u001b[0m \u001b[1m45s\u001b[0m 609ms/step - loss: 5.7419e-05 - mae: 0.0082 - mse: 1.1484e-04 - val_loss: 5.6678e-04 - val_mae: 0.0115 - val_mse: 0.0015 - learning_rate: 1.0454e-04\n",
      "Epoch 68/80\n",
      "\u001b[1m73/73\u001b[0m \u001b[32m━━━━━━━━━━━━━━━━━━━━\u001b[0m\u001b[37m\u001b[0m \u001b[1m0s\u001b[0m 484ms/step - loss: 5.5758e-05 - mae: 0.0081 - mse: 1.1152e-04\n",
      "Epoch 68: val_loss did not improve from 0.00051\n",
      "\u001b[1m73/73\u001b[0m \u001b[32m━━━━━━━━━━━━━━━━━━━━\u001b[0m\u001b[37m\u001b[0m \u001b[1m57s\u001b[0m 771ms/step - loss: 5.5745e-05 - mae: 0.0081 - mse: 1.1149e-04 - val_loss: 5.6660e-04 - val_mae: 0.0113 - val_mse: 0.0015 - learning_rate: 9.1886e-05\n",
      "Epoch 69/80\n",
      "\u001b[1m73/73\u001b[0m \u001b[32m━━━━━━━━━━━━━━━━━━━━\u001b[0m\u001b[37m\u001b[0m \u001b[1m0s\u001b[0m 486ms/step - loss: 5.4937e-05 - mae: 0.0080 - mse: 1.0987e-04\n",
      "Epoch 69: val_loss did not improve from 0.00051\n",
      "\u001b[1m73/73\u001b[0m \u001b[32m━━━━━━━━━━━━━━━━━━━━\u001b[0m\u001b[37m\u001b[0m \u001b[1m45s\u001b[0m 609ms/step - loss: 5.4932e-05 - mae: 0.0080 - mse: 1.0986e-04 - val_loss: 5.6774e-04 - val_mae: 0.0112 - val_mse: 0.0016 - learning_rate: 8.0068e-05\n",
      "Epoch 70/80\n",
      "\u001b[1m73/73\u001b[0m \u001b[32m━━━━━━━━━━━━━━━━━━━━\u001b[0m\u001b[37m\u001b[0m \u001b[1m0s\u001b[0m 481ms/step - loss: 5.3157e-05 - mae: 0.0079 - mse: 1.0631e-04"
     ]
    },
    {
     "name": "stderr",
     "output_type": "stream",
     "text": [
      "2024-08-26 06:51:22.721426: W tensorflow/core/kernels/data/prefetch_autotuner.cc:52] Prefetch autotuner tried to allocate 60212224 bytes after encountering the first element of size 60212224 bytes.This already causes the autotune ram budget to be exceeded. To stay within the ram budget, either increase the ram budget or reduce element size\n"
     ]
    },
    {
     "name": "stdout",
     "output_type": "stream",
     "text": [
      "\n",
      "Epoch 70: val_loss did not improve from 0.00051\n",
      "\u001b[1m73/73\u001b[0m \u001b[32m━━━━━━━━━━━━━━━━━━━━\u001b[0m\u001b[37m\u001b[0m \u001b[1m45s\u001b[0m 611ms/step - loss: 5.3155e-05 - mae: 0.0079 - mse: 1.0631e-04 - val_loss: 5.7112e-04 - val_mae: 0.0111 - val_mse: 0.0016 - learning_rate: 6.9105e-05\n",
      "Epoch 71/80\n",
      "\u001b[1m73/73\u001b[0m \u001b[32m━━━━━━━━━━━━━━━━━━━━\u001b[0m\u001b[37m\u001b[0m \u001b[1m0s\u001b[0m 469ms/step - loss: 5.7898e-05 - mae: 0.0081 - mse: 1.1673e-04\n",
      "Epoch 71: val_loss did not improve from 0.00051\n",
      "\u001b[1m73/73\u001b[0m \u001b[32m━━━━━━━━━━━━━━━━━━━━\u001b[0m\u001b[37m\u001b[0m \u001b[1m44s\u001b[0m 598ms/step - loss: 5.7878e-05 - mae: 0.0081 - mse: 1.1669e-04 - val_loss: 6.3989e-04 - val_mae: 0.0120 - val_mse: 0.0018 - learning_rate: 5.9020e-05\n",
      "Epoch 72/80\n",
      "\u001b[1m73/73\u001b[0m \u001b[32m━━━━━━━━━━━━━━━━━━━━\u001b[0m\u001b[37m\u001b[0m \u001b[1m0s\u001b[0m 455ms/step - loss: 5.2956e-05 - mae: 0.0079 - mse: 1.0591e-04"
     ]
    },
    {
     "name": "stderr",
     "output_type": "stream",
     "text": [
      "2024-08-26 06:52:50.027661: W tensorflow/core/kernels/data/prefetch_autotuner.cc:52] Prefetch autotuner tried to allocate 60212224 bytes after encountering the first element of size 60212224 bytes.This already causes the autotune ram budget to be exceeded. To stay within the ram budget, either increase the ram budget or reduce element size\n"
     ]
    },
    {
     "name": "stdout",
     "output_type": "stream",
     "text": [
      "\n",
      "Epoch 72: val_loss did not improve from 0.00051\n",
      "\u001b[1m73/73\u001b[0m \u001b[32m━━━━━━━━━━━━━━━━━━━━\u001b[0m\u001b[37m\u001b[0m \u001b[1m43s\u001b[0m 585ms/step - loss: 5.2944e-05 - mae: 0.0079 - mse: 1.0589e-04 - val_loss: 6.2892e-04 - val_mae: 0.0116 - val_mse: 0.0017 - learning_rate: 4.9834e-05\n",
      "Epoch 73/80\n",
      "\u001b[1m73/73\u001b[0m \u001b[32m━━━━━━━━━━━━━━━━━━━━\u001b[0m\u001b[37m\u001b[0m \u001b[1m0s\u001b[0m 501ms/step - loss: 5.4401e-05 - mae: 0.0078 - mse: 1.0881e-04"
     ]
    },
    {
     "name": "stderr",
     "output_type": "stream",
     "text": [
      "2024-08-26 06:53:36.590976: W tensorflow/core/kernels/data/prefetch_autotuner.cc:52] Prefetch autotuner tried to allocate 60212224 bytes after encountering the first element of size 60212224 bytes.This already causes the autotune ram budget to be exceeded. To stay within the ram budget, either increase the ram budget or reduce element size\n"
     ]
    },
    {
     "name": "stdout",
     "output_type": "stream",
     "text": [
      "\n",
      "Epoch 73: val_loss did not improve from 0.00051\n",
      "\u001b[1m73/73\u001b[0m \u001b[32m━━━━━━━━━━━━━━━━━━━━\u001b[0m\u001b[37m\u001b[0m \u001b[1m47s\u001b[0m 636ms/step - loss: 5.4386e-05 - mae: 0.0078 - mse: 1.0878e-04 - val_loss: 6.3080e-04 - val_mae: 0.0115 - val_mse: 0.0017 - learning_rate: 4.1564e-05\n",
      "Epoch 74/80\n",
      "\u001b[1m73/73\u001b[0m \u001b[32m━━━━━━━━━━━━━━━━━━━━\u001b[0m\u001b[37m\u001b[0m \u001b[1m0s\u001b[0m 483ms/step - loss: 5.4271e-05 - mae: 0.0079 - mse: 1.0857e-04\n",
      "Epoch 74: val_loss did not improve from 0.00051\n",
      "\u001b[1m73/73\u001b[0m \u001b[32m━━━━━━━━━━━━━━━━━━━━\u001b[0m\u001b[37m\u001b[0m \u001b[1m45s\u001b[0m 608ms/step - loss: 5.4255e-05 - mae: 0.0079 - mse: 1.0854e-04 - val_loss: 6.2137e-04 - val_mae: 0.0115 - val_mse: 0.0017 - learning_rate: 3.4227e-05\n",
      "Epoch 75/80\n",
      "\u001b[1m73/73\u001b[0m \u001b[32m━━━━━━━━━━━━━━━━━━━━\u001b[0m\u001b[37m\u001b[0m \u001b[1m0s\u001b[0m 489ms/step - loss: 5.2406e-05 - mae: 0.0079 - mse: 1.0481e-04\n",
      "Epoch 75: val_loss did not improve from 0.00051\n",
      "\u001b[1m73/73\u001b[0m \u001b[32m━━━━━━━━━━━━━━━━━━━━\u001b[0m\u001b[37m\u001b[0m \u001b[1m50s\u001b[0m 685ms/step - loss: 5.2401e-05 - mae: 0.0079 - mse: 1.0480e-04 - val_loss: 6.2219e-04 - val_mae: 0.0114 - val_mse: 0.0017 - learning_rate: 2.7838e-05\n",
      "Epoch 76/80\n",
      "\u001b[1m73/73\u001b[0m \u001b[32m━━━━━━━━━━━━━━━━━━━━\u001b[0m\u001b[37m\u001b[0m \u001b[1m0s\u001b[0m 481ms/step - loss: 5.0337e-05 - mae: 0.0077 - mse: 1.0067e-04"
     ]
    },
    {
     "name": "stderr",
     "output_type": "stream",
     "text": [
      "2024-08-26 06:55:57.176298: W tensorflow/core/kernels/data/prefetch_autotuner.cc:52] Prefetch autotuner tried to allocate 60212224 bytes after encountering the first element of size 60212224 bytes.This already causes the autotune ram budget to be exceeded. To stay within the ram budget, either increase the ram budget or reduce element size\n"
     ]
    },
    {
     "name": "stdout",
     "output_type": "stream",
     "text": [
      "\n",
      "Epoch 76: val_loss did not improve from 0.00051\n",
      "\u001b[1m73/73\u001b[0m \u001b[32m━━━━━━━━━━━━━━━━━━━━\u001b[0m\u001b[37m\u001b[0m \u001b[1m45s\u001b[0m 614ms/step - loss: 5.0346e-05 - mae: 0.0077 - mse: 1.0069e-04 - val_loss: 6.2865e-04 - val_mae: 0.0117 - val_mse: 0.0017 - learning_rate: 2.2411e-05\n",
      "Epoch 77/80\n",
      "\u001b[1m73/73\u001b[0m \u001b[32m━━━━━━━━━━━━━━━━━━━━\u001b[0m\u001b[37m\u001b[0m \u001b[1m0s\u001b[0m 472ms/step - loss: 5.4378e-05 - mae: 0.0079 - mse: 1.0878e-04"
     ]
    },
    {
     "name": "stderr",
     "output_type": "stream",
     "text": [
      "2024-08-26 06:56:41.841272: W tensorflow/core/kernels/data/prefetch_autotuner.cc:52] Prefetch autotuner tried to allocate 60212224 bytes after encountering the first element of size 60212224 bytes.This already causes the autotune ram budget to be exceeded. To stay within the ram budget, either increase the ram budget or reduce element size\n"
     ]
    },
    {
     "name": "stdout",
     "output_type": "stream",
     "text": [
      "\n",
      "Epoch 77: val_loss did not improve from 0.00051\n",
      "\u001b[1m73/73\u001b[0m \u001b[32m━━━━━━━━━━━━━━━━━━━━\u001b[0m\u001b[37m\u001b[0m \u001b[1m43s\u001b[0m 588ms/step - loss: 5.4363e-05 - mae: 0.0079 - mse: 1.0875e-04 - val_loss: 6.3824e-04 - val_mae: 0.0115 - val_mse: 0.0018 - learning_rate: 1.7955e-05\n",
      "Epoch 78/80\n",
      "\u001b[1m73/73\u001b[0m \u001b[32m━━━━━━━━━━━━━━━━━━━━\u001b[0m\u001b[37m\u001b[0m \u001b[1m0s\u001b[0m 464ms/step - loss: 5.0795e-05 - mae: 0.0077 - mse: 1.0159e-04\n",
      "Epoch 78: val_loss did not improve from 0.00051\n",
      "\u001b[1m73/73\u001b[0m \u001b[32m━━━━━━━━━━━━━━━━━━━━\u001b[0m\u001b[37m\u001b[0m \u001b[1m55s\u001b[0m 745ms/step - loss: 5.0785e-05 - mae: 0.0077 - mse: 1.0157e-04 - val_loss: 6.3806e-04 - val_mae: 0.0115 - val_mse: 0.0018 - learning_rate: 1.4480e-05\n",
      "Epoch 79/80\n",
      "\u001b[1m73/73\u001b[0m \u001b[32m━━━━━━━━━━━━━━━━━━━━\u001b[0m\u001b[37m\u001b[0m \u001b[1m0s\u001b[0m 467ms/step - loss: 5.0470e-05 - mae: 0.0077 - mse: 1.0094e-04"
     ]
    },
    {
     "name": "stderr",
     "output_type": "stream",
     "text": [
      "2024-08-26 06:58:19.634999: W tensorflow/core/kernels/data/prefetch_autotuner.cc:52] Prefetch autotuner tried to allocate 60212224 bytes after encountering the first element of size 60212224 bytes.This already causes the autotune ram budget to be exceeded. To stay within the ram budget, either increase the ram budget or reduce element size\n"
     ]
    },
    {
     "name": "stdout",
     "output_type": "stream",
     "text": [
      "\n",
      "Epoch 79: val_loss did not improve from 0.00051\n",
      "\u001b[1m73/73\u001b[0m \u001b[32m━━━━━━━━━━━━━━━━━━━━\u001b[0m\u001b[37m\u001b[0m \u001b[1m44s\u001b[0m 595ms/step - loss: 5.0481e-05 - mae: 0.0077 - mse: 1.0096e-04 - val_loss: 6.3951e-04 - val_mae: 0.0115 - val_mse: 0.0018 - learning_rate: 1.1993e-05\n",
      "Epoch 80/80\n",
      "\u001b[1m73/73\u001b[0m \u001b[32m━━━━━━━━━━━━━━━━━━━━\u001b[0m\u001b[37m\u001b[0m \u001b[1m0s\u001b[0m 490ms/step - loss: 4.9117e-05 - mae: 0.0076 - mse: 9.8234e-05\n",
      "Epoch 80: val_loss did not improve from 0.00051\n",
      "\u001b[1m73/73\u001b[0m \u001b[32m━━━━━━━━━━━━━━━━━━━━\u001b[0m\u001b[37m\u001b[0m \u001b[1m46s\u001b[0m 630ms/step - loss: 4.9132e-05 - mae: 0.0076 - mse: 9.8265e-05 - val_loss: 6.4056e-04 - val_mae: 0.0116 - val_mse: 0.0018 - learning_rate: 1.0498e-05\n"
     ]
    }
   ],
   "source": [
    "with experiment.train():\n",
    "    history = model.fit(train_gen, epochs = 80, validation_data=val_gen, callbacks=[lr_callback, tensorboard_callback, model_checkpoint_callback])"
   ]
  },
  {
   "cell_type": "code",
   "execution_count": 27,
   "metadata": {},
   "outputs": [],
   "source": [
    "# # save the model as tfjs\n",
    "# model.save('iris_detection_modelV1_eff5.keras')\n"
   ]
  },
  {
   "cell_type": "code",
   "execution_count": 28,
   "metadata": {},
   "outputs": [
    {
     "name": "stdout",
     "output_type": "stream",
     "text": [
      "INFO:tensorflow:Assets written to: effb3_18_model/assets\n"
     ]
    },
    {
     "name": "stderr",
     "output_type": "stream",
     "text": [
      "INFO:tensorflow:Assets written to: effb3_18_model/assets\n"
     ]
    },
    {
     "name": "stdout",
     "output_type": "stream",
     "text": [
      "Saved artifact at 'effb3_18_model/'. The following endpoints are available:\n",
      "\n",
      "* Endpoint 'serve'\n",
      "  args_0 (POSITIONAL_ONLY): TensorSpec(shape=(None, 224, 224, 3), dtype=tf.float32, name='keras_tensor')\n",
      "Output Type:\n",
      "  TensorSpec(shape=(None, 4), dtype=tf.float32, name=None)\n",
      "Captures:\n",
      "  140165251646864: TensorSpec(shape=(1, 1, 1, 3), dtype=tf.float32, name=None)\n",
      "  140165251648208: TensorSpec(shape=(1, 1, 1, 3), dtype=tf.float32, name=None)\n",
      "  140165251650704: TensorSpec(shape=(), dtype=tf.resource, name=None)\n",
      "  140165251649552: TensorSpec(shape=(), dtype=tf.resource, name=None)\n",
      "  140165251647248: TensorSpec(shape=(), dtype=tf.resource, name=None)\n",
      "  140165251650320: TensorSpec(shape=(), dtype=tf.resource, name=None)\n",
      "  140165251650896: TensorSpec(shape=(), dtype=tf.resource, name=None)\n",
      "  140165251649936: TensorSpec(shape=(), dtype=tf.resource, name=None)\n",
      "  140165251651664: TensorSpec(shape=(), dtype=tf.resource, name=None)\n",
      "  140165251649744: TensorSpec(shape=(), dtype=tf.resource, name=None)\n",
      "  140165251651856: TensorSpec(shape=(), dtype=tf.resource, name=None)\n",
      "  140165251650128: TensorSpec(shape=(), dtype=tf.resource, name=None)\n",
      "  140165251655120: TensorSpec(shape=(), dtype=tf.resource, name=None)\n",
      "  140165251654352: TensorSpec(shape=(), dtype=tf.resource, name=None)\n",
      "  140165251656080: TensorSpec(shape=(), dtype=tf.resource, name=None)\n",
      "  140165251654928: TensorSpec(shape=(), dtype=tf.resource, name=None)\n",
      "  140165251656848: TensorSpec(shape=(), dtype=tf.resource, name=None)\n",
      "  140165251655888: TensorSpec(shape=(), dtype=tf.resource, name=None)\n",
      "  140165251654736: TensorSpec(shape=(), dtype=tf.resource, name=None)\n",
      "  140165251655696: TensorSpec(shape=(), dtype=tf.resource, name=None)\n",
      "  140165251656464: TensorSpec(shape=(), dtype=tf.resource, name=None)\n",
      "  140165251658768: TensorSpec(shape=(), dtype=tf.resource, name=None)\n",
      "  140165251654544: TensorSpec(shape=(), dtype=tf.resource, name=None)\n",
      "  140165251658384: TensorSpec(shape=(), dtype=tf.resource, name=None)\n",
      "  140165251657808: TensorSpec(shape=(), dtype=tf.resource, name=None)\n",
      "  140165251658192: TensorSpec(shape=(), dtype=tf.resource, name=None)\n",
      "  140165251660880: TensorSpec(shape=(), dtype=tf.resource, name=None)\n",
      "  140165251656656: TensorSpec(shape=(), dtype=tf.resource, name=None)\n",
      "  140165251661648: TensorSpec(shape=(), dtype=tf.resource, name=None)\n",
      "  140165251659920: TensorSpec(shape=(), dtype=tf.resource, name=None)\n",
      "  140165251660496: TensorSpec(shape=(), dtype=tf.resource, name=None)\n",
      "  140165252137424: TensorSpec(shape=(), dtype=tf.resource, name=None)\n",
      "  140165252137040: TensorSpec(shape=(), dtype=tf.resource, name=None)\n",
      "  140165252137616: TensorSpec(shape=(), dtype=tf.resource, name=None)\n",
      "  140165252137232: TensorSpec(shape=(), dtype=tf.resource, name=None)\n",
      "  140165252140496: TensorSpec(shape=(), dtype=tf.resource, name=None)\n",
      "  140165252139920: TensorSpec(shape=(), dtype=tf.resource, name=None)\n",
      "  140165252139536: TensorSpec(shape=(), dtype=tf.resource, name=None)\n",
      "  140165252139728: TensorSpec(shape=(), dtype=tf.resource, name=None)\n",
      "  140165252140112: TensorSpec(shape=(), dtype=tf.resource, name=None)\n",
      "  140165252142416: TensorSpec(shape=(), dtype=tf.resource, name=None)\n",
      "  140165252141840: TensorSpec(shape=(), dtype=tf.resource, name=None)\n",
      "  140165252141072: TensorSpec(shape=(), dtype=tf.resource, name=None)\n",
      "  140165252137808: TensorSpec(shape=(), dtype=tf.resource, name=None)\n",
      "  140165252142032: TensorSpec(shape=(), dtype=tf.resource, name=None)\n",
      "  140165252144336: TensorSpec(shape=(), dtype=tf.resource, name=None)\n",
      "  140165252141456: TensorSpec(shape=(), dtype=tf.resource, name=None)\n",
      "  140165252145104: TensorSpec(shape=(), dtype=tf.resource, name=None)\n",
      "  140165252143952: TensorSpec(shape=(), dtype=tf.resource, name=None)\n",
      "  140165252145872: TensorSpec(shape=(), dtype=tf.resource, name=None)\n",
      "  140165252144912: TensorSpec(shape=(), dtype=tf.resource, name=None)\n",
      "  140165252142992: TensorSpec(shape=(), dtype=tf.resource, name=None)\n",
      "  140165252144720: TensorSpec(shape=(), dtype=tf.resource, name=None)\n",
      "  140165252145488: TensorSpec(shape=(), dtype=tf.resource, name=None)\n",
      "  140165252147792: TensorSpec(shape=(), dtype=tf.resource, name=None)\n",
      "  140165252147216: TensorSpec(shape=(), dtype=tf.resource, name=None)\n",
      "  140165252146448: TensorSpec(shape=(), dtype=tf.resource, name=None)\n",
      "  140165252143376: TensorSpec(shape=(), dtype=tf.resource, name=None)\n",
      "  140165252147408: TensorSpec(shape=(), dtype=tf.resource, name=None)\n",
      "  140165252149712: TensorSpec(shape=(), dtype=tf.resource, name=None)\n",
      "  140165252149136: TensorSpec(shape=(), dtype=tf.resource, name=None)\n",
      "  140165252148368: TensorSpec(shape=(), dtype=tf.resource, name=None)\n",
      "  140165252146832: TensorSpec(shape=(), dtype=tf.resource, name=None)\n",
      "  140165252149328: TensorSpec(shape=(), dtype=tf.resource, name=None)\n",
      "  140165252151632: TensorSpec(shape=(), dtype=tf.resource, name=None)\n",
      "  140165252148752: TensorSpec(shape=(), dtype=tf.resource, name=None)\n",
      "  140165252152400: TensorSpec(shape=(), dtype=tf.resource, name=None)\n",
      "  140165252151248: TensorSpec(shape=(), dtype=tf.resource, name=None)\n",
      "  140165252153168: TensorSpec(shape=(), dtype=tf.resource, name=None)\n",
      "  140165252152016: TensorSpec(shape=(), dtype=tf.resource, name=None)\n",
      "  140165252546640: TensorSpec(shape=(), dtype=tf.resource, name=None)\n",
      "  140165252150672: TensorSpec(shape=(), dtype=tf.resource, name=None)\n",
      "  140165252152784: TensorSpec(shape=(), dtype=tf.resource, name=None)\n",
      "  140165252548752: TensorSpec(shape=(), dtype=tf.resource, name=None)\n",
      "  140165252548176: TensorSpec(shape=(), dtype=tf.resource, name=None)\n",
      "  140165252547792: TensorSpec(shape=(), dtype=tf.resource, name=None)\n",
      "  140165252547984: TensorSpec(shape=(), dtype=tf.resource, name=None)\n",
      "  140165252548368: TensorSpec(shape=(), dtype=tf.resource, name=None)\n",
      "  140165252550672: TensorSpec(shape=(), dtype=tf.resource, name=None)\n",
      "  140165252550096: TensorSpec(shape=(), dtype=tf.resource, name=None)\n",
      "  140165252549328: TensorSpec(shape=(), dtype=tf.resource, name=None)\n",
      "  140165252546832: TensorSpec(shape=(), dtype=tf.resource, name=None)\n",
      "  140165252550288: TensorSpec(shape=(), dtype=tf.resource, name=None)\n",
      "  140165252552592: TensorSpec(shape=(), dtype=tf.resource, name=None)\n",
      "  140165252549712: TensorSpec(shape=(), dtype=tf.resource, name=None)\n",
      "  140165252553360: TensorSpec(shape=(), dtype=tf.resource, name=None)\n",
      "  140165252552208: TensorSpec(shape=(), dtype=tf.resource, name=None)\n",
      "  140165252554128: TensorSpec(shape=(), dtype=tf.resource, name=None)\n",
      "  140165252553168: TensorSpec(shape=(), dtype=tf.resource, name=None)\n",
      "  140165252551248: TensorSpec(shape=(), dtype=tf.resource, name=None)\n",
      "  140165252552976: TensorSpec(shape=(), dtype=tf.resource, name=None)\n",
      "  140165252553744: TensorSpec(shape=(), dtype=tf.resource, name=None)\n",
      "  140165252556432: TensorSpec(shape=(), dtype=tf.resource, name=None)\n",
      "  140165252555856: TensorSpec(shape=(), dtype=tf.resource, name=None)\n",
      "  140165252555472: TensorSpec(shape=(), dtype=tf.resource, name=None)\n",
      "  140165252555664: TensorSpec(shape=(), dtype=tf.resource, name=None)\n",
      "  140165252556048: TensorSpec(shape=(), dtype=tf.resource, name=None)\n",
      "  140165252558352: TensorSpec(shape=(), dtype=tf.resource, name=None)\n",
      "  140165252557776: TensorSpec(shape=(), dtype=tf.resource, name=None)\n",
      "  140165252557008: TensorSpec(shape=(), dtype=tf.resource, name=None)\n",
      "  140165252553936: TensorSpec(shape=(), dtype=tf.resource, name=None)\n",
      "  140165252557968: TensorSpec(shape=(), dtype=tf.resource, name=None)\n",
      "  140165252560272: TensorSpec(shape=(), dtype=tf.resource, name=None)\n",
      "  140165252557392: TensorSpec(shape=(), dtype=tf.resource, name=None)\n",
      "  140165252561040: TensorSpec(shape=(), dtype=tf.resource, name=None)\n",
      "  140165252559888: TensorSpec(shape=(), dtype=tf.resource, name=None)\n",
      "  140165252561808: TensorSpec(shape=(), dtype=tf.resource, name=None)\n",
      "  140165252560848: TensorSpec(shape=(), dtype=tf.resource, name=None)\n",
      "  140165252558928: TensorSpec(shape=(), dtype=tf.resource, name=None)\n",
      "  140165252560656: TensorSpec(shape=(), dtype=tf.resource, name=None)\n",
      "  140165252561424: TensorSpec(shape=(), dtype=tf.resource, name=None)\n",
      "  140165252561616: TensorSpec(shape=(), dtype=tf.resource, name=None)\n",
      "  140165080220112: TensorSpec(shape=(), dtype=tf.resource, name=None)\n",
      "  140165080219920: TensorSpec(shape=(), dtype=tf.resource, name=None)\n",
      "  140165080220304: TensorSpec(shape=(), dtype=tf.resource, name=None)\n",
      "  140165080219728: TensorSpec(shape=(), dtype=tf.resource, name=None)\n",
      "  140165080222416: TensorSpec(shape=(), dtype=tf.resource, name=None)\n",
      "  140165080221840: TensorSpec(shape=(), dtype=tf.resource, name=None)\n",
      "  140165080221072: TensorSpec(shape=(), dtype=tf.resource, name=None)\n",
      "  140165080220496: TensorSpec(shape=(), dtype=tf.resource, name=None)\n",
      "  140165080222032: TensorSpec(shape=(), dtype=tf.resource, name=None)\n",
      "  140165080224336: TensorSpec(shape=(), dtype=tf.resource, name=None)\n",
      "  140165080221456: TensorSpec(shape=(), dtype=tf.resource, name=None)\n",
      "  140165080225104: TensorSpec(shape=(), dtype=tf.resource, name=None)\n",
      "  140165080223952: TensorSpec(shape=(), dtype=tf.resource, name=None)\n",
      "  140165080225872: TensorSpec(shape=(), dtype=tf.resource, name=None)\n",
      "  140165080224912: TensorSpec(shape=(), dtype=tf.resource, name=None)\n",
      "  140165080222992: TensorSpec(shape=(), dtype=tf.resource, name=None)\n",
      "  140165080224720: TensorSpec(shape=(), dtype=tf.resource, name=None)\n",
      "  140165080225488: TensorSpec(shape=(), dtype=tf.resource, name=None)\n",
      "  140165080228176: TensorSpec(shape=(), dtype=tf.resource, name=None)\n",
      "  140165080227600: TensorSpec(shape=(), dtype=tf.resource, name=None)\n",
      "  140165080227216: TensorSpec(shape=(), dtype=tf.resource, name=None)\n",
      "  140165080227408: TensorSpec(shape=(), dtype=tf.resource, name=None)\n",
      "  140165080227792: TensorSpec(shape=(), dtype=tf.resource, name=None)\n",
      "  140165080230096: TensorSpec(shape=(), dtype=tf.resource, name=None)\n",
      "  140165080229520: TensorSpec(shape=(), dtype=tf.resource, name=None)\n",
      "  140165080228752: TensorSpec(shape=(), dtype=tf.resource, name=None)\n",
      "  140165080225680: TensorSpec(shape=(), dtype=tf.resource, name=None)\n",
      "  140165080229712: TensorSpec(shape=(), dtype=tf.resource, name=None)\n",
      "  140165080232016: TensorSpec(shape=(), dtype=tf.resource, name=None)\n",
      "  140165080229136: TensorSpec(shape=(), dtype=tf.resource, name=None)\n",
      "  140165080232784: TensorSpec(shape=(), dtype=tf.resource, name=None)\n",
      "  140165080231632: TensorSpec(shape=(), dtype=tf.resource, name=None)\n",
      "  140165080233552: TensorSpec(shape=(), dtype=tf.resource, name=None)\n",
      "  140165080232592: TensorSpec(shape=(), dtype=tf.resource, name=None)\n",
      "  140165080230672: TensorSpec(shape=(), dtype=tf.resource, name=None)\n",
      "  140165080232400: TensorSpec(shape=(), dtype=tf.resource, name=None)\n",
      "  140165080233168: TensorSpec(shape=(), dtype=tf.resource, name=None)\n",
      "  140165080235856: TensorSpec(shape=(), dtype=tf.resource, name=None)\n",
      "  140165080235088: TensorSpec(shape=(), dtype=tf.resource, name=None)\n",
      "  140165080678480: TensorSpec(shape=(), dtype=tf.resource, name=None)\n",
      "  140165080233360: TensorSpec(shape=(), dtype=tf.resource, name=None)\n",
      "  140165080235472: TensorSpec(shape=(), dtype=tf.resource, name=None)\n",
      "  140165080680208: TensorSpec(shape=(), dtype=tf.resource, name=None)\n",
      "  140165080679632: TensorSpec(shape=(), dtype=tf.resource, name=None)\n",
      "  140165080679056: TensorSpec(shape=(), dtype=tf.resource, name=None)\n",
      "  140165080678864: TensorSpec(shape=(), dtype=tf.resource, name=None)\n",
      "  140165080679824: TensorSpec(shape=(), dtype=tf.resource, name=None)\n",
      "  140165080682128: TensorSpec(shape=(), dtype=tf.resource, name=None)\n",
      "  140165080679248: TensorSpec(shape=(), dtype=tf.resource, name=None)\n",
      "  140165080682896: TensorSpec(shape=(), dtype=tf.resource, name=None)\n",
      "  140165080681744: TensorSpec(shape=(), dtype=tf.resource, name=None)\n",
      "  140165080683664: TensorSpec(shape=(), dtype=tf.resource, name=None)\n",
      "  140165080682704: TensorSpec(shape=(), dtype=tf.resource, name=None)\n",
      "  140165080680784: TensorSpec(shape=(), dtype=tf.resource, name=None)\n",
      "  140165080682512: TensorSpec(shape=(), dtype=tf.resource, name=None)\n",
      "  140165080683280: TensorSpec(shape=(), dtype=tf.resource, name=None)\n",
      "  140165080685584: TensorSpec(shape=(), dtype=tf.resource, name=None)\n",
      "  140165080685008: TensorSpec(shape=(), dtype=tf.resource, name=None)\n",
      "  140165080684240: TensorSpec(shape=(), dtype=tf.resource, name=None)\n",
      "  140165080681168: TensorSpec(shape=(), dtype=tf.resource, name=None)\n",
      "  140165080685200: TensorSpec(shape=(), dtype=tf.resource, name=None)\n",
      "  140165080687504: TensorSpec(shape=(), dtype=tf.resource, name=None)\n",
      "  140165080686928: TensorSpec(shape=(), dtype=tf.resource, name=None)\n",
      "  140165080686160: TensorSpec(shape=(), dtype=tf.resource, name=None)\n",
      "  140165080684624: TensorSpec(shape=(), dtype=tf.resource, name=None)\n",
      "  140165080687120: TensorSpec(shape=(), dtype=tf.resource, name=None)\n",
      "  140165080689424: TensorSpec(shape=(), dtype=tf.resource, name=None)\n",
      "  140165080686544: TensorSpec(shape=(), dtype=tf.resource, name=None)\n",
      "  140165080690192: TensorSpec(shape=(), dtype=tf.resource, name=None)\n",
      "  140165080689040: TensorSpec(shape=(), dtype=tf.resource, name=None)\n",
      "  140165080690960: TensorSpec(shape=(), dtype=tf.resource, name=None)\n",
      "  140165080690000: TensorSpec(shape=(), dtype=tf.resource, name=None)\n",
      "  140165080688080: TensorSpec(shape=(), dtype=tf.resource, name=None)\n",
      "  140165080689808: TensorSpec(shape=(), dtype=tf.resource, name=None)\n",
      "  140165080690576: TensorSpec(shape=(), dtype=tf.resource, name=None)\n",
      "  140165080693264: TensorSpec(shape=(), dtype=tf.resource, name=None)\n",
      "  140165080692688: TensorSpec(shape=(), dtype=tf.resource, name=None)\n",
      "  140165080692304: TensorSpec(shape=(), dtype=tf.resource, name=None)\n",
      "  140165080692496: TensorSpec(shape=(), dtype=tf.resource, name=None)\n",
      "  140165080692880: TensorSpec(shape=(), dtype=tf.resource, name=None)\n",
      "  140165080694608: TensorSpec(shape=(), dtype=tf.resource, name=None)\n",
      "  140164969316432: TensorSpec(shape=(), dtype=tf.resource, name=None)\n",
      "  140164969316816: TensorSpec(shape=(), dtype=tf.resource, name=None)\n",
      "  140165080690768: TensorSpec(shape=(), dtype=tf.resource, name=None)\n",
      "  140164969317008: TensorSpec(shape=(), dtype=tf.resource, name=None)\n",
      "  140164969318736: TensorSpec(shape=(), dtype=tf.resource, name=None)\n",
      "  140164969316624: TensorSpec(shape=(), dtype=tf.resource, name=None)\n",
      "  140164969319504: TensorSpec(shape=(), dtype=tf.resource, name=None)\n",
      "  140164969318352: TensorSpec(shape=(), dtype=tf.resource, name=None)\n",
      "  140164969320272: TensorSpec(shape=(), dtype=tf.resource, name=None)\n",
      "  140164969319312: TensorSpec(shape=(), dtype=tf.resource, name=None)\n",
      "  140164969317392: TensorSpec(shape=(), dtype=tf.resource, name=None)\n",
      "  140164969319120: TensorSpec(shape=(), dtype=tf.resource, name=None)\n",
      "  140164969319888: TensorSpec(shape=(), dtype=tf.resource, name=None)\n",
      "  140164969322576: TensorSpec(shape=(), dtype=tf.resource, name=None)\n",
      "  140164969322000: TensorSpec(shape=(), dtype=tf.resource, name=None)\n",
      "  140164969321616: TensorSpec(shape=(), dtype=tf.resource, name=None)\n",
      "  140164969321808: TensorSpec(shape=(), dtype=tf.resource, name=None)\n",
      "  140164969322192: TensorSpec(shape=(), dtype=tf.resource, name=None)\n",
      "  140164969324496: TensorSpec(shape=(), dtype=tf.resource, name=None)\n",
      "  140164969323920: TensorSpec(shape=(), dtype=tf.resource, name=None)\n",
      "  140164969323152: TensorSpec(shape=(), dtype=tf.resource, name=None)\n",
      "  140164969320080: TensorSpec(shape=(), dtype=tf.resource, name=None)\n",
      "  140164969324112: TensorSpec(shape=(), dtype=tf.resource, name=None)\n",
      "  140164969326416: TensorSpec(shape=(), dtype=tf.resource, name=None)\n",
      "  140164969323536: TensorSpec(shape=(), dtype=tf.resource, name=None)\n",
      "  140164969327184: TensorSpec(shape=(), dtype=tf.resource, name=None)\n",
      "  140164969326032: TensorSpec(shape=(), dtype=tf.resource, name=None)\n",
      "  140164969327952: TensorSpec(shape=(), dtype=tf.resource, name=None)\n",
      "  140164969326992: TensorSpec(shape=(), dtype=tf.resource, name=None)\n",
      "  140164969325072: TensorSpec(shape=(), dtype=tf.resource, name=None)\n",
      "  140164969326800: TensorSpec(shape=(), dtype=tf.resource, name=None)\n",
      "  140164969327568: TensorSpec(shape=(), dtype=tf.resource, name=None)\n",
      "  140164969330256: TensorSpec(shape=(), dtype=tf.resource, name=None)\n",
      "  140164969329680: TensorSpec(shape=(), dtype=tf.resource, name=None)\n",
      "  140164969329296: TensorSpec(shape=(), dtype=tf.resource, name=None)\n",
      "  140164969329488: TensorSpec(shape=(), dtype=tf.resource, name=None)\n",
      "  140164969329872: TensorSpec(shape=(), dtype=tf.resource, name=None)\n",
      "  140164969332176: TensorSpec(shape=(), dtype=tf.resource, name=None)\n",
      "  140164969331216: TensorSpec(shape=(), dtype=tf.resource, name=None)\n",
      "  140164969330832: TensorSpec(shape=(), dtype=tf.resource, name=None)\n",
      "  140164969327760: TensorSpec(shape=(), dtype=tf.resource, name=None)\n",
      "  140164969331792: TensorSpec(shape=(), dtype=tf.resource, name=None)\n",
      "  140164969776528: TensorSpec(shape=(), dtype=tf.resource, name=None)\n",
      "  140164969775760: TensorSpec(shape=(), dtype=tf.resource, name=None)\n",
      "  140164969777296: TensorSpec(shape=(), dtype=tf.resource, name=None)\n",
      "  140164969776144: TensorSpec(shape=(), dtype=tf.resource, name=None)\n",
      "  140164969778064: TensorSpec(shape=(), dtype=tf.resource, name=None)\n",
      "  140164969777104: TensorSpec(shape=(), dtype=tf.resource, name=None)\n",
      "  140164969775568: TensorSpec(shape=(), dtype=tf.resource, name=None)\n",
      "  140164969776912: TensorSpec(shape=(), dtype=tf.resource, name=None)\n",
      "  140164969777680: TensorSpec(shape=(), dtype=tf.resource, name=None)\n",
      "  140164969780560: TensorSpec(shape=(), dtype=tf.resource, name=None)\n",
      "  140164969779984: TensorSpec(shape=(), dtype=tf.resource, name=None)\n",
      "  140164969779600: TensorSpec(shape=(), dtype=tf.resource, name=None)\n",
      "  140164969779792: TensorSpec(shape=(), dtype=tf.resource, name=None)\n",
      "  140164969780176: TensorSpec(shape=(), dtype=tf.resource, name=None)\n",
      "  140164969782480: TensorSpec(shape=(), dtype=tf.resource, name=None)\n",
      "  140164969781904: TensorSpec(shape=(), dtype=tf.resource, name=None)\n",
      "  140164969781136: TensorSpec(shape=(), dtype=tf.resource, name=None)\n",
      "  140164969778640: TensorSpec(shape=(), dtype=tf.resource, name=None)\n",
      "  140164969782096: TensorSpec(shape=(), dtype=tf.resource, name=None)\n",
      "  140164969784400: TensorSpec(shape=(), dtype=tf.resource, name=None)\n",
      "  140164969781520: TensorSpec(shape=(), dtype=tf.resource, name=None)\n",
      "  140164969785168: TensorSpec(shape=(), dtype=tf.resource, name=None)\n",
      "  140164969784016: TensorSpec(shape=(), dtype=tf.resource, name=None)\n",
      "  140164969785936: TensorSpec(shape=(), dtype=tf.resource, name=None)\n",
      "  140164969784976: TensorSpec(shape=(), dtype=tf.resource, name=None)\n",
      "  140164969783056: TensorSpec(shape=(), dtype=tf.resource, name=None)\n",
      "  140164969784784: TensorSpec(shape=(), dtype=tf.resource, name=None)\n",
      "  140164969785552: TensorSpec(shape=(), dtype=tf.resource, name=None)\n",
      "  140164969787856: TensorSpec(shape=(), dtype=tf.resource, name=None)\n",
      "  140164969787280: TensorSpec(shape=(), dtype=tf.resource, name=None)\n",
      "  140164969786512: TensorSpec(shape=(), dtype=tf.resource, name=None)\n",
      "  140164969783440: TensorSpec(shape=(), dtype=tf.resource, name=None)\n",
      "  140164969787472: TensorSpec(shape=(), dtype=tf.resource, name=None)\n",
      "  140164969789776: TensorSpec(shape=(), dtype=tf.resource, name=None)\n",
      "  140164969789200: TensorSpec(shape=(), dtype=tf.resource, name=None)\n",
      "  140164969788432: TensorSpec(shape=(), dtype=tf.resource, name=None)\n",
      "  140164969786896: TensorSpec(shape=(), dtype=tf.resource, name=None)\n",
      "  140164969789392: TensorSpec(shape=(), dtype=tf.resource, name=None)\n",
      "  140164969791312: TensorSpec(shape=(), dtype=tf.resource, name=None)\n",
      "  140164969790736: TensorSpec(shape=(), dtype=tf.resource, name=None)\n",
      "  140164969788816: TensorSpec(shape=(), dtype=tf.resource, name=None)\n",
      "  140164916707984: TensorSpec(shape=(), dtype=tf.resource, name=None)\n",
      "  140164916709136: TensorSpec(shape=(), dtype=tf.resource, name=None)\n",
      "  140164916708176: TensorSpec(shape=(), dtype=tf.resource, name=None)\n",
      "  140164916708560: TensorSpec(shape=(), dtype=tf.resource, name=None)\n",
      "  140164916707600: TensorSpec(shape=(), dtype=tf.resource, name=None)\n",
      "  140164916708752: TensorSpec(shape=(), dtype=tf.resource, name=None)\n",
      "  140164916711632: TensorSpec(shape=(), dtype=tf.resource, name=None)\n",
      "  140164916711056: TensorSpec(shape=(), dtype=tf.resource, name=None)\n",
      "  140164916710672: TensorSpec(shape=(), dtype=tf.resource, name=None)\n",
      "  140164916710864: TensorSpec(shape=(), dtype=tf.resource, name=None)\n",
      "  140164916711248: TensorSpec(shape=(), dtype=tf.resource, name=None)\n",
      "  140164916713552: TensorSpec(shape=(), dtype=tf.resource, name=None)\n",
      "  140164916712976: TensorSpec(shape=(), dtype=tf.resource, name=None)\n",
      "  140164916712208: TensorSpec(shape=(), dtype=tf.resource, name=None)\n",
      "  140164916709712: TensorSpec(shape=(), dtype=tf.resource, name=None)\n",
      "  140164916713168: TensorSpec(shape=(), dtype=tf.resource, name=None)\n",
      "  140164916715472: TensorSpec(shape=(), dtype=tf.resource, name=None)\n",
      "  140164916712592: TensorSpec(shape=(), dtype=tf.resource, name=None)\n",
      "  140164916716240: TensorSpec(shape=(), dtype=tf.resource, name=None)\n",
      "  140164916715088: TensorSpec(shape=(), dtype=tf.resource, name=None)\n",
      "  140164916717008: TensorSpec(shape=(), dtype=tf.resource, name=None)\n",
      "  140164916716048: TensorSpec(shape=(), dtype=tf.resource, name=None)\n",
      "  140164916714128: TensorSpec(shape=(), dtype=tf.resource, name=None)\n",
      "  140164916715856: TensorSpec(shape=(), dtype=tf.resource, name=None)\n",
      "  140164916716624: TensorSpec(shape=(), dtype=tf.resource, name=None)\n",
      "  140164916719312: TensorSpec(shape=(), dtype=tf.resource, name=None)\n",
      "  140164916718736: TensorSpec(shape=(), dtype=tf.resource, name=None)\n",
      "  140164916718352: TensorSpec(shape=(), dtype=tf.resource, name=None)\n",
      "  140164916718544: TensorSpec(shape=(), dtype=tf.resource, name=None)\n",
      "  140164916718928: TensorSpec(shape=(), dtype=tf.resource, name=None)\n",
      "  140164916721232: TensorSpec(shape=(), dtype=tf.resource, name=None)\n",
      "  140164916720656: TensorSpec(shape=(), dtype=tf.resource, name=None)\n",
      "  140164916719888: TensorSpec(shape=(), dtype=tf.resource, name=None)\n",
      "  140164916716816: TensorSpec(shape=(), dtype=tf.resource, name=None)\n",
      "  140164916720848: TensorSpec(shape=(), dtype=tf.resource, name=None)\n",
      "  140164916723152: TensorSpec(shape=(), dtype=tf.resource, name=None)\n",
      "  140164916720272: TensorSpec(shape=(), dtype=tf.resource, name=None)\n",
      "  140164916723536: TensorSpec(shape=(), dtype=tf.resource, name=None)\n",
      "  140164916722192: TensorSpec(shape=(), dtype=tf.resource, name=None)\n",
      "  140164916722768: TensorSpec(shape=(), dtype=tf.resource, name=None)\n",
      "  140164917182928: TensorSpec(shape=(), dtype=tf.resource, name=None)\n",
      "  140164917182544: TensorSpec(shape=(), dtype=tf.resource, name=None)\n",
      "  140164917183120: TensorSpec(shape=(), dtype=tf.resource, name=None)\n",
      "  140164917182736: TensorSpec(shape=(), dtype=tf.resource, name=None)\n",
      "  140164917185808: TensorSpec(shape=(), dtype=tf.resource, name=None)\n",
      "  140164917185232: TensorSpec(shape=(), dtype=tf.resource, name=None)\n",
      "  140164917184848: TensorSpec(shape=(), dtype=tf.resource, name=None)\n",
      "  140164917185040: TensorSpec(shape=(), dtype=tf.resource, name=None)\n",
      "  140164917185424: TensorSpec(shape=(), dtype=tf.resource, name=None)\n",
      "  140164917187728: TensorSpec(shape=(), dtype=tf.resource, name=None)\n",
      "  140164917187152: TensorSpec(shape=(), dtype=tf.resource, name=None)\n",
      "  140164917186384: TensorSpec(shape=(), dtype=tf.resource, name=None)\n",
      "  140164917183696: TensorSpec(shape=(), dtype=tf.resource, name=None)\n",
      "  140164917187344: TensorSpec(shape=(), dtype=tf.resource, name=None)\n",
      "  140164917189648: TensorSpec(shape=(), dtype=tf.resource, name=None)\n",
      "  140164917186768: TensorSpec(shape=(), dtype=tf.resource, name=None)\n",
      "  140164917190416: TensorSpec(shape=(), dtype=tf.resource, name=None)\n",
      "  140164917189264: TensorSpec(shape=(), dtype=tf.resource, name=None)\n",
      "  140164917191184: TensorSpec(shape=(), dtype=tf.resource, name=None)\n",
      "  140164917190224: TensorSpec(shape=(), dtype=tf.resource, name=None)\n",
      "  140164917188304: TensorSpec(shape=(), dtype=tf.resource, name=None)\n",
      "  140164917190032: TensorSpec(shape=(), dtype=tf.resource, name=None)\n",
      "  140164917190800: TensorSpec(shape=(), dtype=tf.resource, name=None)\n",
      "  140164917193488: TensorSpec(shape=(), dtype=tf.resource, name=None)\n",
      "  140164917192912: TensorSpec(shape=(), dtype=tf.resource, name=None)\n",
      "  140164917192528: TensorSpec(shape=(), dtype=tf.resource, name=None)\n",
      "  140164917192720: TensorSpec(shape=(), dtype=tf.resource, name=None)\n",
      "  140164917193104: TensorSpec(shape=(), dtype=tf.resource, name=None)\n",
      "  140164917195408: TensorSpec(shape=(), dtype=tf.resource, name=None)\n",
      "  140164917194832: TensorSpec(shape=(), dtype=tf.resource, name=None)\n",
      "  140164917194064: TensorSpec(shape=(), dtype=tf.resource, name=None)\n",
      "  140164917190992: TensorSpec(shape=(), dtype=tf.resource, name=None)\n",
      "  140164917195024: TensorSpec(shape=(), dtype=tf.resource, name=None)\n",
      "  140164917197328: TensorSpec(shape=(), dtype=tf.resource, name=None)\n",
      "  140164917194448: TensorSpec(shape=(), dtype=tf.resource, name=None)\n",
      "  140164917198096: TensorSpec(shape=(), dtype=tf.resource, name=None)\n",
      "  140164917196944: TensorSpec(shape=(), dtype=tf.resource, name=None)\n",
      "  140164917198480: TensorSpec(shape=(), dtype=tf.resource, name=None)\n",
      "  140164646060688: TensorSpec(shape=(), dtype=tf.resource, name=None)\n",
      "  140164646060496: TensorSpec(shape=(), dtype=tf.resource, name=None)\n",
      "  140164917197136: TensorSpec(shape=(), dtype=tf.resource, name=None)\n",
      "  140164917196368: TensorSpec(shape=(), dtype=tf.resource, name=None)\n",
      "  140164646062032: TensorSpec(shape=(), dtype=tf.resource, name=None)\n",
      "  140164646061456: TensorSpec(shape=(), dtype=tf.resource, name=None)\n",
      "  140164646060880: TensorSpec(shape=(), dtype=tf.resource, name=None)\n",
      "  140164646060112: TensorSpec(shape=(), dtype=tf.resource, name=None)\n",
      "  140164646061648: TensorSpec(shape=(), dtype=tf.resource, name=None)\n",
      "  140164646063952: TensorSpec(shape=(), dtype=tf.resource, name=None)\n",
      "  140164646063376: TensorSpec(shape=(), dtype=tf.resource, name=None)\n",
      "  140164646062608: TensorSpec(shape=(), dtype=tf.resource, name=None)\n",
      "  140164646061072: TensorSpec(shape=(), dtype=tf.resource, name=None)\n",
      "  140164646063568: TensorSpec(shape=(), dtype=tf.resource, name=None)\n",
      "  140164646065872: TensorSpec(shape=(), dtype=tf.resource, name=None)\n",
      "  140164646062992: TensorSpec(shape=(), dtype=tf.resource, name=None)\n",
      "  140164646066640: TensorSpec(shape=(), dtype=tf.resource, name=None)\n",
      "  140164646065488: TensorSpec(shape=(), dtype=tf.resource, name=None)\n",
      "  140164646067408: TensorSpec(shape=(), dtype=tf.resource, name=None)\n",
      "  140164646066448: TensorSpec(shape=(), dtype=tf.resource, name=None)\n",
      "  140164646064528: TensorSpec(shape=(), dtype=tf.resource, name=None)\n",
      "  140164646066256: TensorSpec(shape=(), dtype=tf.resource, name=None)\n",
      "  140164646067024: TensorSpec(shape=(), dtype=tf.resource, name=None)\n",
      "  140164646069712: TensorSpec(shape=(), dtype=tf.resource, name=None)\n",
      "  140164646069136: TensorSpec(shape=(), dtype=tf.resource, name=None)\n",
      "  140164646068752: TensorSpec(shape=(), dtype=tf.resource, name=None)\n",
      "  140164646068944: TensorSpec(shape=(), dtype=tf.resource, name=None)\n",
      "  140164646069328: TensorSpec(shape=(), dtype=tf.resource, name=None)\n",
      "  140164646071632: TensorSpec(shape=(), dtype=tf.resource, name=None)\n",
      "  140164646071056: TensorSpec(shape=(), dtype=tf.resource, name=None)\n",
      "  140164646070288: TensorSpec(shape=(), dtype=tf.resource, name=None)\n",
      "  140164646067216: TensorSpec(shape=(), dtype=tf.resource, name=None)\n",
      "  140164646071248: TensorSpec(shape=(), dtype=tf.resource, name=None)\n",
      "  140164646073552: TensorSpec(shape=(), dtype=tf.resource, name=None)\n",
      "  140164646070672: TensorSpec(shape=(), dtype=tf.resource, name=None)\n",
      "  140164646074320: TensorSpec(shape=(), dtype=tf.resource, name=None)\n",
      "  140164646073168: TensorSpec(shape=(), dtype=tf.resource, name=None)\n",
      "  140164646075088: TensorSpec(shape=(), dtype=tf.resource, name=None)\n",
      "  140164646074128: TensorSpec(shape=(), dtype=tf.resource, name=None)\n",
      "  140164646072208: TensorSpec(shape=(), dtype=tf.resource, name=None)\n",
      "  140164646073936: TensorSpec(shape=(), dtype=tf.resource, name=None)\n",
      "  140164646074704: TensorSpec(shape=(), dtype=tf.resource, name=None)\n",
      "  140164646072592: TensorSpec(shape=(), dtype=tf.resource, name=None)\n",
      "  140164646536208: TensorSpec(shape=(), dtype=tf.resource, name=None)\n",
      "  140164646536400: TensorSpec(shape=(), dtype=tf.resource, name=None)\n",
      "  140164646535824: TensorSpec(shape=(), dtype=tf.resource, name=None)\n",
      "  140164646535248: TensorSpec(shape=(), dtype=tf.resource, name=None)\n",
      "  140164646538128: TensorSpec(shape=(), dtype=tf.resource, name=None)\n",
      "  140164646537552: TensorSpec(shape=(), dtype=tf.resource, name=None)\n",
      "  140164646536784: TensorSpec(shape=(), dtype=tf.resource, name=None)\n",
      "  140164646535632: TensorSpec(shape=(), dtype=tf.resource, name=None)\n",
      "  140164646537744: TensorSpec(shape=(), dtype=tf.resource, name=None)\n",
      "  140164646540048: TensorSpec(shape=(), dtype=tf.resource, name=None)\n",
      "  140164646537168: TensorSpec(shape=(), dtype=tf.resource, name=None)\n",
      "  140164646540816: TensorSpec(shape=(), dtype=tf.resource, name=None)\n",
      "  140164646539664: TensorSpec(shape=(), dtype=tf.resource, name=None)\n",
      "  140164646541584: TensorSpec(shape=(), dtype=tf.resource, name=None)\n",
      "  140164646540624: TensorSpec(shape=(), dtype=tf.resource, name=None)\n",
      "  140164646538704: TensorSpec(shape=(), dtype=tf.resource, name=None)\n",
      "  140164646540432: TensorSpec(shape=(), dtype=tf.resource, name=None)\n",
      "  140164646541200: TensorSpec(shape=(), dtype=tf.resource, name=None)\n",
      "  140164646543888: TensorSpec(shape=(), dtype=tf.resource, name=None)\n",
      "  140164646543312: TensorSpec(shape=(), dtype=tf.resource, name=None)\n",
      "  140164646542928: TensorSpec(shape=(), dtype=tf.resource, name=None)\n",
      "  140164646543120: TensorSpec(shape=(), dtype=tf.resource, name=None)\n",
      "  140164646543504: TensorSpec(shape=(), dtype=tf.resource, name=None)\n",
      "  140164646545808: TensorSpec(shape=(), dtype=tf.resource, name=None)\n",
      "  140164646545232: TensorSpec(shape=(), dtype=tf.resource, name=None)\n",
      "  140164646544464: TensorSpec(shape=(), dtype=tf.resource, name=None)\n",
      "  140164646541392: TensorSpec(shape=(), dtype=tf.resource, name=None)\n",
      "  140164646545424: TensorSpec(shape=(), dtype=tf.resource, name=None)\n",
      "  140164646547728: TensorSpec(shape=(), dtype=tf.resource, name=None)\n",
      "  140164646544848: TensorSpec(shape=(), dtype=tf.resource, name=None)\n",
      "  140164646548496: TensorSpec(shape=(), dtype=tf.resource, name=None)\n",
      "  140164646547344: TensorSpec(shape=(), dtype=tf.resource, name=None)\n",
      "  140164646549264: TensorSpec(shape=(), dtype=tf.resource, name=None)\n",
      "  140164646548304: TensorSpec(shape=(), dtype=tf.resource, name=None)\n",
      "  140164646546384: TensorSpec(shape=(), dtype=tf.resource, name=None)\n",
      "  140164646548112: TensorSpec(shape=(), dtype=tf.resource, name=None)\n",
      "  140164646548880: TensorSpec(shape=(), dtype=tf.resource, name=None)\n",
      "  140164646551184: TensorSpec(shape=(), dtype=tf.resource, name=None)\n",
      "  140164646961808: TensorSpec(shape=(), dtype=tf.resource, name=None)\n",
      "  140164646961616: TensorSpec(shape=(), dtype=tf.resource, name=None)\n",
      "  140164646546768: TensorSpec(shape=(), dtype=tf.resource, name=None)\n",
      "  140164646549072: TensorSpec(shape=(), dtype=tf.resource, name=None)\n",
      "  140164646963152: TensorSpec(shape=(), dtype=tf.resource, name=None)\n",
      "  140164646962576: TensorSpec(shape=(), dtype=tf.resource, name=None)\n",
      "  140164646962000: TensorSpec(shape=(), dtype=tf.resource, name=None)\n",
      "  140164646961232: TensorSpec(shape=(), dtype=tf.resource, name=None)\n",
      "  140164646962768: TensorSpec(shape=(), dtype=tf.resource, name=None)\n",
      "  140164646965072: TensorSpec(shape=(), dtype=tf.resource, name=None)\n",
      "  140164646962192: TensorSpec(shape=(), dtype=tf.resource, name=None)\n",
      "  140164646965840: TensorSpec(shape=(), dtype=tf.resource, name=None)\n",
      "  140164646964688: TensorSpec(shape=(), dtype=tf.resource, name=None)\n",
      "  140164646966608: TensorSpec(shape=(), dtype=tf.resource, name=None)\n",
      "  140164646965648: TensorSpec(shape=(), dtype=tf.resource, name=None)\n",
      "  140164646963728: TensorSpec(shape=(), dtype=tf.resource, name=None)\n",
      "  140164646965456: TensorSpec(shape=(), dtype=tf.resource, name=None)\n",
      "  140164646966224: TensorSpec(shape=(), dtype=tf.resource, name=None)\n",
      "  140164646968912: TensorSpec(shape=(), dtype=tf.resource, name=None)\n",
      "  140164646968336: TensorSpec(shape=(), dtype=tf.resource, name=None)\n",
      "  140164646967952: TensorSpec(shape=(), dtype=tf.resource, name=None)\n",
      "  140164646968144: TensorSpec(shape=(), dtype=tf.resource, name=None)\n",
      "  140164646968528: TensorSpec(shape=(), dtype=tf.resource, name=None)\n",
      "  140164646970832: TensorSpec(shape=(), dtype=tf.resource, name=None)\n",
      "  140164646970256: TensorSpec(shape=(), dtype=tf.resource, name=None)\n",
      "  140164646969488: TensorSpec(shape=(), dtype=tf.resource, name=None)\n",
      "  140164646966416: TensorSpec(shape=(), dtype=tf.resource, name=None)\n",
      "  140164646970448: TensorSpec(shape=(), dtype=tf.resource, name=None)\n",
      "  140164646972752: TensorSpec(shape=(), dtype=tf.resource, name=None)\n",
      "  140164646969872: TensorSpec(shape=(), dtype=tf.resource, name=None)\n",
      "  140164646973520: TensorSpec(shape=(), dtype=tf.resource, name=None)\n",
      "  140164646972368: TensorSpec(shape=(), dtype=tf.resource, name=None)\n",
      "  140164646974288: TensorSpec(shape=(), dtype=tf.resource, name=None)\n",
      "  140164646973328: TensorSpec(shape=(), dtype=tf.resource, name=None)\n",
      "  140164646971408: TensorSpec(shape=(), dtype=tf.resource, name=None)\n",
      "  140164646973136: TensorSpec(shape=(), dtype=tf.resource, name=None)\n",
      "  140164646973904: TensorSpec(shape=(), dtype=tf.resource, name=None)\n",
      "  140164646976208: TensorSpec(shape=(), dtype=tf.resource, name=None)\n",
      "  140164646975632: TensorSpec(shape=(), dtype=tf.resource, name=None)\n",
      "  140164646974864: TensorSpec(shape=(), dtype=tf.resource, name=None)\n",
      "  140164646971792: TensorSpec(shape=(), dtype=tf.resource, name=None)\n",
      "  140164646975824: TensorSpec(shape=(), dtype=tf.resource, name=None)\n",
      "  140164646975248: TensorSpec(shape=(), dtype=tf.resource, name=None)\n",
      "  140163882959120: TensorSpec(shape=(), dtype=tf.resource, name=None)\n",
      "  140163882959504: TensorSpec(shape=(), dtype=tf.resource, name=None)\n",
      "  140164646976016: TensorSpec(shape=(), dtype=tf.resource, name=None)\n",
      "  140163882959696: TensorSpec(shape=(), dtype=tf.resource, name=None)\n",
      "  140163882961424: TensorSpec(shape=(), dtype=tf.resource, name=None)\n",
      "  140163882958928: TensorSpec(shape=(), dtype=tf.resource, name=None)\n",
      "  140163882962192: TensorSpec(shape=(), dtype=tf.resource, name=None)\n",
      "  140163882961040: TensorSpec(shape=(), dtype=tf.resource, name=None)\n",
      "  140163882962960: TensorSpec(shape=(), dtype=tf.resource, name=None)\n",
      "  140163882962000: TensorSpec(shape=(), dtype=tf.resource, name=None)\n",
      "  140163882960080: TensorSpec(shape=(), dtype=tf.resource, name=None)\n",
      "  140163882961808: TensorSpec(shape=(), dtype=tf.resource, name=None)\n",
      "  140163882962576: TensorSpec(shape=(), dtype=tf.resource, name=None)\n",
      "  140163882965264: TensorSpec(shape=(), dtype=tf.resource, name=None)\n",
      "  140163882964688: TensorSpec(shape=(), dtype=tf.resource, name=None)\n",
      "  140163882964304: TensorSpec(shape=(), dtype=tf.resource, name=None)\n",
      "  140163882964496: TensorSpec(shape=(), dtype=tf.resource, name=None)\n",
      "  140163882964880: TensorSpec(shape=(), dtype=tf.resource, name=None)\n",
      "  140163882966224: TensorSpec(shape=(), dtype=tf.resource, name=None)\n",
      "  140163882967376: TensorSpec(shape=(), dtype=tf.resource, name=None)\n",
      "  140163882967568: TensorSpec(shape=(), dtype=tf.resource, name=None)\n",
      "  140163882966992: TensorSpec(shape=(), dtype=tf.resource, name=None)\n",
      "  140163882966800: TensorSpec(shape=(), dtype=tf.resource, name=None)\n",
      "  140163882967184: TensorSpec(shape=(), dtype=tf.resource, name=None)\n",
      "  140163882968912: TensorSpec(shape=(), dtype=tf.resource, name=None)\n",
      "  140163882969680: TensorSpec(shape=(), dtype=tf.resource, name=None)\n",
      "  140163882969872: TensorSpec(shape=(), dtype=tf.resource, name=None)\n",
      "  140163882969296: TensorSpec(shape=(), dtype=tf.resource, name=None)\n",
      "  140163882962768: TensorSpec(shape=(), dtype=tf.resource, name=None)\n",
      "  140163882969488: TensorSpec(shape=(), dtype=tf.resource, name=None)\n",
      "  140163882971216: TensorSpec(shape=(), dtype=tf.resource, name=None)\n",
      "  140163882971984: TensorSpec(shape=(), dtype=tf.resource, name=None)\n",
      "  140163882972176: TensorSpec(shape=(), dtype=tf.resource, name=None)\n",
      "  140163882971600: TensorSpec(shape=(), dtype=tf.resource, name=None)\n",
      "  140163882968144: TensorSpec(shape=(), dtype=tf.resource, name=None)\n",
      "  140163882971792: TensorSpec(shape=(), dtype=tf.resource, name=None)\n",
      "  140163882972752: TensorSpec(shape=(), dtype=tf.resource, name=None)\n",
      "  140163882974672: TensorSpec(shape=(), dtype=tf.resource, name=None)\n"
     ]
    }
   ],
   "source": [
    "!mkdir -p effb3_18_model\n",
    "model.export('effb3_18_model/')"
   ]
  },
  {
   "cell_type": "code",
   "execution_count": 29,
   "metadata": {},
   "outputs": [
    {
     "data": {
      "image/png": "[encoded data removed]",
      "text/plain": [
       "<Figure size 640x480 with 1 Axes>"
      ]
     },
     "metadata": {},
     "output_type": "display_data"
    }
   ],
   "source": [
    "# plot the loss\n",
    "plt.plot(history.history['loss'], label='train')\n",
    "plt.plot(history.history['val_loss'], label='val')\n",
    "plt.legend()\n",
    "plt.show()"
   ]
  },
  {
   "cell_type": "code",
   "execution_count": 30,
   "metadata": {},
   "outputs": [
    {
     "name": "stdout",
     "output_type": "stream",
     "text": [
      "\u001b[1m7/7\u001b[0m \u001b[32m━━━━━━━━━━━━━━━━━━━━\u001b[0m\u001b[37m\u001b[0m \u001b[1m5s\u001b[0m 719ms/step - loss: 3.3023e-04 - mae: 0.0077 - mse: 7.4664e-04\n",
      "Test loss: [0.0005207324284128845, 0.0011767965042963624, 0.009711484424769878]\n"
     ]
    }
   ],
   "source": [
    "# test the model\n",
    "test_loss = model.evaluate(test_gen)\n",
    "print(\"Test loss:\", test_loss)"
   ]
  },
  {
   "cell_type": "markdown",
   "metadata": {},
   "source": [
    "## Inference"
   ]
  },
  {
   "cell_type": "code",
   "execution_count": 31,
   "metadata": {},
   "outputs": [],
   "source": [
    "# # camera testing\n",
    "# def predict_camera_image(image):\n",
    "#     image = tf.image.resize(image, [256, 256])\n",
    "#     image = tf.cast(image, tf.float16) / 255.0\n",
    "#     image = tf.expand_dims(image, axis=0)\n",
    "#     prediction = model.predict(image)\n",
    "#     return prediction"
   ]
  },
  {
   "cell_type": "code",
   "execution_count": 32,
   "metadata": {},
   "outputs": [],
   "source": [
    "# # open the camera\n",
    "# cap = cv2.VideoCapture(0)\n",
    "# while True:\n",
    "#     ret, frame = cap.read()\n",
    "    \n",
    "#     # Preprocess the frame\n",
    "#     frame = cv2.resize(frame, (256, 256))\n",
    "#     frame = frame.astype(np.float16) / 255.0\n",
    "    \n",
    "#     # Make prediction\n",
    "#     prediction = predict_camera_image(frame)\n",
    "    \n",
    "#     # Correct coordinates\n",
    "#     coord1 = correct_coordinates(prediction[0, :2])\n",
    "#     coord2 = correct_coordinates(prediction[0, 2:])\n",
    "    \n",
    "#     # Draw circles on the frame\n",
    "#     cv2.circle(frame, coord1, 4, (255, 0, 0), -1)\n",
    "#     cv2.circle(frame, coord2, 4, (0, 255, 0), -1)\n",
    "    \n",
    "#     # Display the frame\n",
    "#     cv2.imshow('Real-time Prediction', frame)\n",
    "    \n",
    "#     # Break the loop if 'q' is pressed\n",
    "#     if cv2.waitKey(1) & 0xFF == ord('q'):\n",
    "#         break\n",
    "\n",
    "# # Release the capture and destroy all windows\n",
    "# cap.release()\n",
    "# cv2.destroyAllWindows()"
   ]
  },
  {
   "cell_type": "code",
   "execution_count": null,
   "metadata": {},
   "outputs": [],
   "source": []
  },
  {
   "cell_type": "code",
   "execution_count": null,
   "metadata": {},
   "outputs": [],
   "source": []
  },
  {
   "cell_type": "code",
   "execution_count": null,
   "metadata": {},
   "outputs": [],
   "source": []
  },
  {
   "cell_type": "code",
   "execution_count": null,
   "metadata": {},
   "outputs": [],
   "source": []
  }
 ],
 "metadata": {
  "kernelspec": {
   "display_name": "Python 3",
   "language": "python",
   "name": "python3"
  },
  "language_info": {
   "codemirror_mode": {
    "name": "ipython",
    "version": 3
   },
   "file_extension": ".py",
   "mimetype": "text/x-python",
   "name": "python",
   "nbconvert_exporter": "python",
   "pygments_lexer": "ipython3",
   "version": "3.12.3"
  }
 },
 "nbformat": 4,
 "nbformat_minor": 2
}
